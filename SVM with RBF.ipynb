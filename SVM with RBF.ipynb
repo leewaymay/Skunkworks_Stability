{
 "cells": [
  {
   "cell_type": "markdown",
   "metadata": {},
   "source": [
    "### things to do\n",
    "- rewrite descriptor generation code\n",
    "- do PCA on the descriptor\n",
    "- try SVM first, GRR\n",
    "\n"
   ]
  },
  {
   "cell_type": "code",
   "execution_count": 1,
   "metadata": {
    "collapsed": false
   },
   "outputs": [],
   "source": [
    "## import data\n",
    "import numpy as np\n",
    "import pandas as pd\n",
    "%matplotlib inline\n",
    "data =  pd.read_csv('new_stability_output_with_descriptors.csv', index_col=0) \n",
    "cdata = pd.read_csv('continuous_stability_output_with_descriptors.csv',index_col=0)\n",
    "ddata = pd.read_csv('disc_stability_output_with_descriptors.csv',index_col=0)\n",
    "X = data[data.columns[0:-1]]\n",
    "Xc = cdata[cdata.columns[0:-1]]\n",
    "Xd = ddata[ddata.columns[0:-1]]\n",
    "y = cdata[cdata.columns[-1]]\n",
    "mdata = pd.read_csv('continuous_stability_output_with_descriptors.csv',index_col=0)\n",
    "yl = mdata[mdata.columns[-1]]\n",
    "# label the instance\n",
    "# Energy above 40 meV is considered to be unstable\n",
    "y[y<=40] = 1\n",
    "y[y>40] = 0"
   ]
  },
  {
   "cell_type": "code",
   "execution_count": 6,
   "metadata": {
    "collapsed": true
   },
   "outputs": [],
   "source": [
    "mydata = pd.read_csv('DS_featureSelected_Scaled_v1.1.csv',index_col=0) "
   ]
  },
  {
   "cell_type": "markdown",
   "metadata": {},
   "source": [
    "plot the data distribution"
   ]
  },
  {
   "cell_type": "code",
   "execution_count": 3,
   "metadata": {
    "collapsed": false
   },
   "outputs": [
    {
     "data": {
      "text/plain": [
       "<matplotlib.text.Text at 0x10439fbe0>"
      ]
     },
     "execution_count": 3,
     "metadata": {},
     "output_type": "execute_result"
    },
    {
     "data": {
      "image/png": "[encoded data removed]",
      "text/plain": [
       "<matplotlib.figure.Figure at 0x1042f66d8>"
      ]
     },
     "metadata": {},
     "output_type": "display_data"
    }
   ],
   "source": [
    "import matplotlib.pyplot as plt\n",
    "yhist = y.plot.hist(bins=1000)\n",
    "plt.xlim(0,400)\n",
    "plt.xlabel('Energy above hull')"
   ]
  },
  {
   "cell_type": "markdown",
   "metadata": {},
   "source": [
    "data pre-processing \n",
    "(kind of cheating here, needs to be revisited later)"
   ]
  },
  {
   "cell_type": "code",
   "execution_count": 2,
   "metadata": {
    "collapsed": false
   },
   "outputs": [],
   "source": [
    "from sklearn import preprocessing\n",
    "## scale the features\n",
    "Xc_scaled = preprocessing.scale(Xc)\n",
    "Xd_scaled = preprocessing.scale(Xd)\n",
    "## remove constant feature\n",
    "from sklearn.feature_selection import VarianceThreshold\n",
    "sel = VarianceThreshold()\n",
    "Xc_ns = sel.fit_transform(Xc_scaled)\n",
    "Xd_ns = sel.fit_transform(Xd_scaled)\n",
    "## do PCA learning, keep 0.99 variance\n",
    "## select K-best, keep top 10 score features\n",
    "from sklearn.decomposition import PCA\n",
    "from sklearn.feature_selection import SelectKBest\n",
    "from sklearn.pipeline import Pipeline, FeatureUnion\n",
    "import pylab as pl\n",
    "pca = PCA(n_components=0.99)\n",
    "selection = SelectKBest(k=3)\n",
    "combined_features = FeatureUnion([(\"pca\", pca), (\"univ_select\", selection)])\n",
    "Xc_con = combined_features.fit_transform(Xc_ns, y)\n",
    "Xd_con = combined_features.fit_transform(Xd_ns, y)\n",
    "X_features = np.concatenate((Xc_con,Xd_con),axis=1)"
   ]
  },
  {
   "cell_type": "code",
   "execution_count": 3,
   "metadata": {
    "collapsed": false
   },
   "outputs": [
    {
     "data": {
      "text/plain": [
       "(1956, 112)"
      ]
     },
     "execution_count": 3,
     "metadata": {},
     "output_type": "execute_result"
    }
   ],
   "source": [
    "X_features.shape"
   ]
  },
  {
   "cell_type": "markdown",
   "metadata": {},
   "source": [
    "write into files"
   ]
  },
  {
   "cell_type": "code",
   "execution_count": 5,
   "metadata": {
    "collapsed": false
   },
   "outputs": [],
   "source": [
    "## write into files\n",
    "header = np.array(range(-2, X_features[1].size+1),dtype=str)\n",
    "header[0] = ''\n",
    "header[1] = 'stability'\n",
    "header[2] = 'Energy above hull'\n",
    "header = header.reshape(1,-1)\n",
    "cdata = pd.read_csv('continuous_stability_output_with_descriptors.csv',index_col=0)\n",
    "yn = cdata[cdata.columns[-1]]\n",
    "yn = yn.reshape(-1,1)\n",
    "mdata = pd.read_csv('continuous_stability_output_with_descriptors.csv',index_col=0)\n",
    "yl = mdata[mdata.columns[-1]]\n",
    "yl[yl<=40] = 1\n",
    "yl[yl>40] = 0\n",
    "yl = yl.reshape(-1,1)\n",
    "index = np.arange(1,X_features.shape[0]+1).reshape(-1,1)\n",
    "descriptors = np.concatenate((index,yl,yn,X_features),axis = 1)\n",
    "datasetwithheader = np.concatenate((header,descriptors),axis = 0)\n",
    "np.savetxt(\"DS_featureSelected_Scaled_v1.1.csv\", datasetwithheader,  fmt=\"%s\", delimiter=',')"
   ]
  },
  {
   "cell_type": "code",
   "execution_count": 4,
   "metadata": {
    "collapsed": false
   },
   "outputs": [],
   "source": [
    "X_total = np.concatenate((Xc,Xd),axis=1)\n",
    "## write into files\n",
    "header = np.array(range(-2, X_total[1].size+1),dtype=str)\n",
    "header[0] = ''\n",
    "header[1] = 'stability'\n",
    "header[2] = 'Energy above hull'\n",
    "header = header.reshape(1,-1)\n",
    "y = y.reshape(-1,1)\n",
    "yl = yl.reshape(-1,1)\n",
    "index = np.arange(1,X_total.shape[0]+1).reshape(-1,1)\n",
    "descriptors = np.concatenate((index,y,yl,X_total),axis = 1)\n",
    "datasetwithheader = np.concatenate((header,descriptors),axis = 0)\n",
    "np.savetxt(\"DS_allfeatures_v1.0.csv\", datasetwithheader,  fmt=\"%s\", delimiter=',')"
   ]
  },
  {
   "cell_type": "markdown",
   "metadata": {},
   "source": [
    "# current probelm\n",
    "## 1.tune parameters\n",
    "## 2.try better model\n",
    "## 3.set up the cv process\n",
    "## 4.reduce the dimension"
   ]
  },
  {
   "cell_type": "markdown",
   "metadata": {},
   "source": [
    "# tune the parameter with these desccriptors\n",
    "#### work on random forest and neural network parameter tunning\n",
    "\n",
    "\n"
   ]
  },
  {
   "cell_type": "code",
   "execution_count": 4,
   "metadata": {
    "collapsed": false
   },
   "outputs": [
    {
     "name": "stdout",
     "output_type": "stream",
     "text": [
      "Accuracy: 0.83 (+/- 0.04)\n"
     ]
    }
   ],
   "source": [
    "from sklearn.linear_model import SGDClassifier\n",
    "from sklearn.model_selection import cross_val_score\n",
    "from sklearn.model_selection import StratifiedShuffleSplit\n",
    "\n",
    "sdg = SGDClassifier(loss='hinge', penalty='l1', alpha=1e-3, n_iter=5, random_state=0)\n",
    "mycv = StratifiedShuffleSplit(n_splits=10, test_size=0.2, random_state=0)\n",
    "scores = cross_val_score(sdg, X_features, y, cv = mycv)\n",
    "print(\"Accuracy: %0.2f (+/- %0.2f)\" % (scores.mean(), scores.std() * 2))"
   ]
  },
  {
   "cell_type": "code",
   "execution_count": 5,
   "metadata": {
    "collapsed": false
   },
   "outputs": [
    {
     "name": "stdout",
     "output_type": "stream",
     "text": [
      "Accuracy: 0.91 (+/- 0.03)\n"
     ]
    }
   ],
   "source": [
    "from sklearn.ensemble import RandomForestClassifier\n",
    "crand = RandomForestClassifier(n_estimators=100)\n",
    "mycv = StratifiedShuffleSplit(n_splits=10, test_size=0.2, random_state=0)\n",
    "scores = cross_val_score(crand, X_features, y, cv = mycv)\n",
    "print(\"Accuracy: %0.2f (+/- %0.2f)\" % (scores.mean(), scores.std() * 2))"
   ]
  },
  {
   "cell_type": "code",
   "execution_count": 86,
   "metadata": {
    "collapsed": false
   },
   "outputs": [
    {
     "name": "stdout",
     "output_type": "stream",
     "text": [
      "Accuracy: 0.91 (+/- 0.03)\n"
     ]
    }
   ],
   "source": [
    "from sklearn.ensemble import RandomForestClassifier\n",
    "crand = RandomForestClassifier(n_estimators=100, min_samples_split = 5, n_jobs = 4)\n",
    "mycv = StratifiedShuffleSplit(n_splits=10, test_size=0.2, random_state=0)\n",
    "scores = cross_val_score(crand, X_features, y, cv = mycv)\n",
    "print(\"Accuracy: %0.2f (+/- %0.2f)\" % (scores.mean(), scores.std() * 2))"
   ]
  },
  {
   "cell_type": "code",
   "execution_count": 73,
   "metadata": {
    "collapsed": false
   },
   "outputs": [
    {
     "name": "stdout",
     "output_type": "stream",
     "text": [
      "Accuracy: 0.91 (+/- 0.03)\n"
     ]
    }
   ],
   "source": [
    "from sklearn.neural_network import MLPClassifier\n",
    "cmlp = MLPClassifier(activation='relu', solver='adam', alpha=1e-1, hidden_layer_sizes=(35,8), max_iter=700)\n",
    "mycv = StratifiedShuffleSplit(n_splits=10, test_size=0.2, random_state=0)\n",
    "scores = cross_val_score(cmlp, X_features, y, cv = mycv)\n",
    "print(\"Accuracy: %0.2f (+/- %0.2f)\" % (scores.mean(), scores.std() * 2))"
   ]
  },
  {
   "cell_type": "code",
   "execution_count": 42,
   "metadata": {
    "collapsed": false
   },
   "outputs": [
    {
     "data": {
      "text/plain": [
       "array([ 0.90816327,  0.91581633,  0.93112245,  0.88010204,  0.91581633])"
      ]
     },
     "execution_count": 42,
     "metadata": {},
     "output_type": "execute_result"
    }
   ],
   "source": [
    "from sklearn.neural_network import MLPClassifier\n",
    "cmlp = MLPClassifier(activation='relu', solver='adam', alpha=1e-1, hidden_layer_sizes=(35,8), max_iter=700)\n",
    "mycv = StratifiedShuffleSplit(n_splits=10, test_size=0.2, random_state=0)\n",
    "scores = cross_val_score(cmlp, X_features, y, cv = mycv)\n",
    "print(\"Accuracy: %0.2f (+/- %0.2f)\" % (scores.mean(), scores.std() * 2))"
   ]
  },
  {
   "cell_type": "markdown",
   "metadata": {},
   "source": [
    "Data transformation with held out data\n",
    "Just as it is important to test a predictor on data held-out from training, preprocessing (such as standardization, feature selection, etc.) and similar data transformations similarly should be learnt from a training set and applied to held-out data for prediction:"
   ]
  },
  {
   "cell_type": "code",
   "execution_count": 61,
   "metadata": {
    "collapsed": false
   },
   "outputs": [
    {
     "data": {
      "text/plain": [
       "0.92346938775510201"
      ]
     },
     "execution_count": 61,
     "metadata": {},
     "output_type": "execute_result"
    }
   ],
   "source": [
    "from sklearn import preprocessing\n",
    "from sklearn.model_selection import train_test_split\n",
    "\n",
    "X_train, X_test, y_train, y_test = train_test_split(\n",
    "    X_features, y, test_size=0.2, random_state=0)\n",
    "scaler = preprocessing.StandardScaler().fit(X_train)\n",
    "X_train_transformed = scaler.transform(X_train)\n",
    "cmlp.fit(X_train_transformed, y_train)\n",
    "X_test_transformed = scaler.transform(X_test)\n",
    "cmlp.score(X_test_transformed, y_test) "
   ]
  },
  {
   "cell_type": "code",
   "execution_count": 69,
   "metadata": {
    "collapsed": false
   },
   "outputs": [
    {
     "name": "stdout",
     "output_type": "stream",
     "text": [
      "0.4141048824593128\n",
      "0.4151624548736462\n",
      "[[1103    3]\n",
      " [   3  455]]\n",
      "[[266  11]\n",
      " [ 22  93]]\n",
      "0.915816326531\n"
     ]
    }
   ],
   "source": [
    "X_train, X_test, y_train, y_test = train_test_split(\n",
    "    X_features, y, test_size=0.2, random_state=300, stratify = y)\n",
    "print(len(y_train[y_train==1])/len(y_train[y_train==0]))\n",
    "print(len(y_test[y_test==1])/len(y_test[y_test==0]))\n",
    "cmlp.fit(X_train,y_train)\n",
    "y_true, y_pred = y_train, cmlp.predict(X_train)\n",
    "print(confusion_matrix(y_true, y_pred))\n",
    "y_true, y_pred = y_test, cmlp.predict(X_test)\n",
    "print(confusion_matrix(y_true, y_pred))\n",
    "print(accuracy_score(y_true, y_pred))"
   ]
  },
  {
   "cell_type": "markdown",
   "metadata": {},
   "source": [
    "A Pipeline makes it easier to compose estimators, providing this behavior under cross-validation:\n",
    "\n",
    "## TODO\n",
    "look into preprocessing.StandardScaler(), pipeline"
   ]
  },
  {
   "cell_type": "code",
   "execution_count": 28,
   "metadata": {
    "collapsed": false
   },
   "outputs": [
    {
     "data": {
      "text/plain": [
       "array([ 0.90816327,  0.90561224,  0.91581633,  0.88010204,  0.91326531])"
      ]
     },
     "execution_count": 28,
     "metadata": {},
     "output_type": "execute_result"
    }
   ],
   "source": [
    "from sklearn.pipeline import make_pipeline\n",
    "clf = make_pipeline(preprocessing.StandardScaler(), cmlp)\n",
    "cross_val_score(cmlp, X_features, y, cv=mycv)"
   ]
  },
  {
   "cell_type": "markdown",
   "metadata": {},
   "source": [
    "* make a parameter search \n",
    "* look into MLP, RandFor\n",
    "* **implement the forward selection**\n",
    "* confusion matrix"
   ]
  },
  {
   "cell_type": "code",
   "execution_count": 15,
   "metadata": {
    "collapsed": false
   },
   "outputs": [
    {
     "name": "stdout",
     "output_type": "stream",
     "text": [
      "RandomizedSearchCV took 644.79 seconds for 200 candidates parameter settings.\n",
      "Model with rank: 1\n",
      "Mean validation score: 0.904 (std: 0.020)\n",
      "Parameters: {'n_estimators': 83, 'criterion': 'entropy', 'min_samples_split': 8, 'bootstrap': False, 'max_features': 8, 'min_samples_leaf': 2, 'max_depth': None}\n",
      "\n",
      "Model with rank: 2\n",
      "Mean validation score: 0.903 (std: 0.021)\n",
      "Parameters: {'n_estimators': 44, 'criterion': 'gini', 'min_samples_split': 6, 'bootstrap': False, 'max_features': 10, 'min_samples_leaf': 3, 'max_depth': None}\n",
      "\n",
      "Model with rank: 3\n",
      "Mean validation score: 0.902 (std: 0.020)\n",
      "Parameters: {'n_estimators': 69, 'criterion': 'gini', 'min_samples_split': 6, 'bootstrap': False, 'max_features': 9, 'min_samples_leaf': 2, 'max_depth': None}\n",
      "\n",
      "GridSearchCV took 3088.31 seconds for 648 candidate parameter settings.\n",
      "Model with rank: 1\n",
      "Mean validation score: 0.908 (std: 0.019)\n",
      "Parameters: {'n_estimators': 20, 'criterion': 'entropy', 'min_samples_split': 1, 'bootstrap': False, 'max_features': 10, 'min_samples_leaf': 1, 'max_depth': None}\n",
      "\n",
      "Model with rank: 2\n",
      "Mean validation score: 0.908 (std: 0.016)\n",
      "Parameters: {'n_estimators': 50, 'criterion': 'entropy', 'min_samples_split': 1, 'bootstrap': False, 'max_features': 10, 'min_samples_leaf': 1, 'max_depth': None}\n",
      "\n",
      "Model with rank: 3\n",
      "Mean validation score: 0.907 (std: 0.016)\n",
      "Parameters: {'n_estimators': 20, 'criterion': 'entropy', 'min_samples_split': 10, 'bootstrap': False, 'max_features': 10, 'min_samples_leaf': 1, 'max_depth': None}\n",
      "\n"
     ]
    }
   ],
   "source": [
    "from time import time\n",
    "from scipy.stats import randint as sp_randint\n",
    "from sklearn.model_selection import GridSearchCV\n",
    "from sklearn.model_selection import RandomizedSearchCV\n",
    "from sklearn.ensemble import RandomForestClassifier\n",
    "\n",
    "# build a classifier\n",
    "clf = RandomForestClassifier(n_estimators=20)\n",
    "\n",
    "\n",
    "# Utility function to report best scores\n",
    "def report(results, n_top=3):\n",
    "    for i in range(1, n_top + 1):\n",
    "        candidates = np.flatnonzero(results['rank_test_score'] == i)\n",
    "        for candidate in candidates:\n",
    "            print(\"Model with rank: {0}\".format(i))\n",
    "            print(\"Mean validation score: {0:.3f} (std: {1:.3f})\".format(\n",
    "                  results['mean_test_score'][candidate],\n",
    "                  results['std_test_score'][candidate]))\n",
    "            print(\"Parameters: {0}\".format(results['params'][candidate]))\n",
    "            print(\"\")\n",
    "\n",
    "\n",
    "# specify parameters and distributions to sample from\n",
    "param_dist = {\"max_depth\": [3, None],\n",
    "              \"max_features\": sp_randint(1, 11),\n",
    "              \"min_samples_split\": sp_randint(1, 11),\n",
    "              \"min_samples_leaf\": sp_randint(1, 11),\n",
    "              \"bootstrap\": [True, False],\n",
    "              \"n_estimators\": sp_randint(20, 100),\n",
    "              \"criterion\": [\"gini\", \"entropy\"]}\n",
    "\n",
    "# run randomized search\n",
    "n_iter_search = 200\n",
    "random_search = RandomizedSearchCV(clf, param_distributions=param_dist,\n",
    "                                   n_iter=n_iter_search,cv = mycv)\n",
    "\n",
    "start = time()\n",
    "random_search.fit(X_features, y)\n",
    "print(\"RandomizedSearchCV took %.2f seconds for %d candidates\"\n",
    "      \" parameter settings.\" % ((time() - start), n_iter_search))\n",
    "report(random_search.cv_results_)\n",
    "\n",
    "# use a full grid over all parameters\n",
    "param_grid = {\"max_depth\": [3, None],\n",
    "              \"max_features\": [1, 3, 10],\n",
    "              \"min_samples_split\": [1, 3, 10],\n",
    "              \"min_samples_leaf\": [1, 3, 10],\n",
    "              \"bootstrap\": [True, False],\n",
    "              \"n_estimators\": [20,50,100],\n",
    "              \"criterion\": [\"gini\", \"entropy\"]}\n",
    "\n",
    "# run grid search\n",
    "grid_search = GridSearchCV(clf, param_grid=param_grid,cv = mycv)\n",
    "start = time()\n",
    "grid_search.fit(X_features, y)\n",
    "\n",
    "print(\"GridSearchCV took %.2f seconds for %d candidate parameter settings.\"\n",
    "      % (time() - start, len(grid_search.cv_results_['params'])))\n",
    "report(grid_search.cv_results_)"
   ]
  },
  {
   "cell_type": "code",
   "execution_count": 43,
   "metadata": {
    "collapsed": false
   },
   "outputs": [
    {
     "name": "stdout",
     "output_type": "stream",
     "text": [
      "Object `MLPClassifier` not found.\n"
     ]
    }
   ],
   "source": [
    "?MLPClassifier"
   ]
  },
  {
   "cell_type": "code",
   "execution_count": 57,
   "metadata": {
    "collapsed": false
   },
   "outputs": [
    {
     "name": "stdout",
     "output_type": "stream",
     "text": [
      "# Tuning hyper-parameters for precision\n",
      "\n",
      "Best parameters set found on development set:\n",
      "\n",
      "{'activation': 'logistic', 'hidden_layer_sizes': (35, 10)}\n",
      "\n",
      "Grid scores on development set:\n",
      "\n",
      "0.831 (+/-0.056) for {'activation': 'logistic', 'hidden_layer_sizes': (45, 5)}\n",
      "0.857 (+/-0.070) for {'activation': 'logistic', 'hidden_layer_sizes': (35, 10)}\n",
      "0.847 (+/-0.038) for {'activation': 'logistic', 'hidden_layer_sizes': (55, 10)}\n",
      "0.845 (+/-0.091) for {'activation': 'logistic', 'hidden_layer_sizes': (35, 8)}\n",
      "0.817 (+/-0.034) for {'activation': 'tanh', 'hidden_layer_sizes': (45, 5)}\n",
      "0.827 (+/-0.066) for {'activation': 'tanh', 'hidden_layer_sizes': (35, 10)}\n",
      "0.854 (+/-0.082) for {'activation': 'tanh', 'hidden_layer_sizes': (55, 10)}\n",
      "0.839 (+/-0.037) for {'activation': 'tanh', 'hidden_layer_sizes': (35, 8)}\n",
      "0.840 (+/-0.084) for {'activation': 'relu', 'hidden_layer_sizes': (45, 5)}\n",
      "0.845 (+/-0.070) for {'activation': 'relu', 'hidden_layer_sizes': (35, 10)}\n",
      "0.843 (+/-0.061) for {'activation': 'relu', 'hidden_layer_sizes': (55, 10)}\n",
      "0.854 (+/-0.049) for {'activation': 'relu', 'hidden_layer_sizes': (35, 8)}\n",
      "\n",
      "Detailed classification report:\n",
      "\n",
      "The model is trained on the full development set.\n",
      "The scores are computed on the full evaluation set.\n",
      "\n",
      "             precision    recall  f1-score   support\n",
      "\n",
      "        0.0       0.93      0.95      0.94       283\n",
      "        1.0       0.87      0.81      0.84       109\n",
      "\n",
      "avg / total       0.91      0.91      0.91       392\n",
      "\n",
      "\n",
      "# Tuning hyper-parameters for accuracy\n",
      "\n",
      "Best parameters set found on development set:\n",
      "\n",
      "{'activation': 'relu', 'hidden_layer_sizes': (55, 10)}\n",
      "\n",
      "Grid scores on development set:\n",
      "\n",
      "0.899 (+/-0.026) for {'activation': 'logistic', 'hidden_layer_sizes': (45, 5)}\n",
      "0.896 (+/-0.029) for {'activation': 'logistic', 'hidden_layer_sizes': (35, 10)}\n",
      "0.904 (+/-0.017) for {'activation': 'logistic', 'hidden_layer_sizes': (55, 10)}\n",
      "0.891 (+/-0.020) for {'activation': 'logistic', 'hidden_layer_sizes': (35, 8)}\n",
      "0.886 (+/-0.007) for {'activation': 'tanh', 'hidden_layer_sizes': (45, 5)}\n",
      "0.891 (+/-0.008) for {'activation': 'tanh', 'hidden_layer_sizes': (35, 10)}\n",
      "0.899 (+/-0.008) for {'activation': 'tanh', 'hidden_layer_sizes': (55, 10)}\n",
      "0.889 (+/-0.026) for {'activation': 'tanh', 'hidden_layer_sizes': (35, 8)}\n",
      "0.888 (+/-0.017) for {'activation': 'relu', 'hidden_layer_sizes': (45, 5)}\n",
      "0.895 (+/-0.013) for {'activation': 'relu', 'hidden_layer_sizes': (35, 10)}\n",
      "0.905 (+/-0.018) for {'activation': 'relu', 'hidden_layer_sizes': (55, 10)}\n",
      "0.896 (+/-0.012) for {'activation': 'relu', 'hidden_layer_sizes': (35, 8)}\n",
      "\n",
      "Detailed classification report:\n",
      "\n",
      "The model is trained on the full development set.\n",
      "The scores are computed on the full evaluation set.\n",
      "\n",
      "             precision    recall  f1-score   support\n",
      "\n",
      "        0.0       0.93      0.95      0.94       283\n",
      "        1.0       0.87      0.83      0.85       109\n",
      "\n",
      "avg / total       0.91      0.92      0.92       392\n",
      "\n",
      "\n"
     ]
    }
   ],
   "source": [
    "from sklearn.model_selection import train_test_split\n",
    "from sklearn.model_selection import GridSearchCV\n",
    "from sklearn.metrics import classification_report\n",
    "\n",
    "X_train, X_test, y_train, y_test = train_test_split(\n",
    "    X_features, y, test_size=0.2, random_state=0)\n",
    "\n",
    "# Set the parameters by cross-validation\n",
    "tuned_parameters = {'activation': ['logistic', 'tanh','relu'],\n",
    "                    'hidden_layer_sizes' : [(45,5),(35,10),(55,10),(35,8)]}\n",
    "\n",
    "scores = ['precision', 'accuracy']\n",
    "\n",
    "for score in scores:\n",
    "    print(\"# Tuning hyper-parameters for %s\" % score)\n",
    "    print()\n",
    "\n",
    "    clf = GridSearchCV(MLPClassifier(max_iter = 700,alpha = 0.1), tuned_parameters, cv=mycv,\n",
    "                       scoring=score, n_jobs = 4)\n",
    "    clf.fit(X_train, y_train)\n",
    "\n",
    "    print(\"Best parameters set found on development set:\")\n",
    "    print()\n",
    "    print(clf.best_params_)\n",
    "    print()\n",
    "    print(\"Grid scores on development set:\")\n",
    "    print()\n",
    "    means = clf.cv_results_['mean_test_score']\n",
    "    stds = clf.cv_results_['std_test_score']\n",
    "    for mean, std, params in zip(means, stds, clf.cv_results_['params']):\n",
    "        print(\"%0.3f (+/-%0.03f) for %r\"\n",
    "              % (mean, std * 2, params))\n",
    "    print()\n",
    "\n",
    "    print(\"Detailed classification report:\")\n",
    "    print()\n",
    "    print(\"The model is trained on the full development set.\")\n",
    "    print(\"The scores are computed on the full evaluation set.\")\n",
    "    print()\n",
    "    y_true, y_pred = y_test, clf.predict(X_test)\n",
    "    print(classification_report(y_true, y_pred))\n",
    "    print()\n",
    "\n",
    "# Note the problem is too easy: the hyperparameter plateau is too flat and the\n",
    "# output model is the same for precision and recall with ties in quality."
   ]
  },
  {
   "cell_type": "code",
   "execution_count": 75,
   "metadata": {
    "collapsed": true
   },
   "outputs": [],
   "source": [
    "?RandomForestClassifier"
   ]
  },
  {
   "cell_type": "code",
   "execution_count": 89,
   "metadata": {
    "collapsed": false
   },
   "outputs": [
    {
     "name": "stdout",
     "output_type": "stream",
     "text": [
      "# Tuning hyper-parameters for precision\n",
      "\n",
      "Best parameters set found on development set:\n",
      "\n",
      "{'n_estimators': 70, 'class_weight': 'balanced'}\n",
      "\n",
      "Grid scores on development set:\n",
      "\n",
      "0.855 (+/-0.105) for {'n_estimators': 10, 'class_weight': 'balanced'}\n",
      "0.872 (+/-0.099) for {'n_estimators': 30, 'class_weight': 'balanced'}\n",
      "0.880 (+/-0.094) for {'n_estimators': 50, 'class_weight': 'balanced'}\n",
      "0.882 (+/-0.093) for {'n_estimators': 70, 'class_weight': 'balanced'}\n",
      "0.872 (+/-0.097) for {'n_estimators': 100, 'class_weight': 'balanced'}\n",
      "0.872 (+/-0.100) for {'n_estimators': 150, 'class_weight': 'balanced'}\n",
      "0.847 (+/-0.105) for {'n_estimators': 10, 'class_weight': None}\n",
      "0.865 (+/-0.093) for {'n_estimators': 30, 'class_weight': None}\n",
      "0.855 (+/-0.083) for {'n_estimators': 50, 'class_weight': None}\n",
      "0.859 (+/-0.096) for {'n_estimators': 70, 'class_weight': None}\n",
      "0.866 (+/-0.092) for {'n_estimators': 100, 'class_weight': None}\n",
      "0.869 (+/-0.093) for {'n_estimators': 150, 'class_weight': None}\n",
      "\n",
      "Detailed classification report:\n",
      "\n",
      "The model is trained on the full development set.\n",
      "The scores are computed on the full evaluation set.\n",
      "\n",
      "             precision    recall  f1-score   support\n",
      "\n",
      "        0.0       0.92      0.94      0.93       277\n",
      "        1.0       0.85      0.79      0.82       115\n",
      "\n",
      "avg / total       0.90      0.90      0.90       392\n",
      "\n",
      "\n",
      "# Tuning hyper-parameters for accuracy\n",
      "\n",
      "Best parameters set found on development set:\n",
      "\n",
      "{'n_estimators': 150, 'class_weight': None}\n",
      "\n",
      "Grid scores on development set:\n",
      "\n",
      "0.885 (+/-0.038) for {'n_estimators': 10, 'class_weight': 'balanced'}\n",
      "0.896 (+/-0.040) for {'n_estimators': 30, 'class_weight': 'balanced'}\n",
      "0.893 (+/-0.037) for {'n_estimators': 50, 'class_weight': 'balanced'}\n",
      "0.901 (+/-0.039) for {'n_estimators': 70, 'class_weight': 'balanced'}\n",
      "0.899 (+/-0.043) for {'n_estimators': 100, 'class_weight': 'balanced'}\n",
      "0.902 (+/-0.047) for {'n_estimators': 150, 'class_weight': 'balanced'}\n",
      "0.879 (+/-0.051) for {'n_estimators': 10, 'class_weight': None}\n",
      "0.892 (+/-0.045) for {'n_estimators': 30, 'class_weight': None}\n",
      "0.892 (+/-0.039) for {'n_estimators': 50, 'class_weight': None}\n",
      "0.895 (+/-0.043) for {'n_estimators': 70, 'class_weight': None}\n",
      "0.897 (+/-0.048) for {'n_estimators': 100, 'class_weight': None}\n",
      "0.904 (+/-0.050) for {'n_estimators': 150, 'class_weight': None}\n",
      "\n",
      "Detailed classification report:\n",
      "\n",
      "The model is trained on the full development set.\n",
      "The scores are computed on the full evaluation set.\n",
      "\n",
      "             precision    recall  f1-score   support\n",
      "\n",
      "        0.0       0.92      0.92      0.92       277\n",
      "        1.0       0.82      0.82      0.82       115\n",
      "\n",
      "avg / total       0.89      0.89      0.89       392\n",
      "\n",
      "\n"
     ]
    }
   ],
   "source": [
    "from sklearn.model_selection import train_test_split\n",
    "from sklearn.model_selection import GridSearchCV\n",
    "from sklearn.metrics import classification_report\n",
    "\n",
    "X_train, X_test, y_train, y_test = train_test_split(\n",
    "    X_features, y, test_size=0.2, random_state=0, stratify = y)\n",
    "\n",
    "# Set the parameters by cross-validation\n",
    "tuned_parameters = {'n_estimators': [10,30,50, 70,100,150],\n",
    "                    'class_weight' : ['balanced', None]}\n",
    "\n",
    "scores = ['precision', 'accuracy']\n",
    "\n",
    "for score in scores:\n",
    "    print(\"# Tuning hyper-parameters for %s\" % score)\n",
    "    print()\n",
    "\n",
    "    clf = GridSearchCV(RandomForestClassifier(n_jobs=4), tuned_parameters, cv=mycv,\n",
    "                       scoring=score, n_jobs = 4)\n",
    "    clf.fit(X_train, y_train)\n",
    "\n",
    "    print(\"Best parameters set found on development set:\")\n",
    "    print()\n",
    "    print(clf.best_params_)\n",
    "    print()\n",
    "    print(\"Grid scores on development set:\")\n",
    "    print()\n",
    "    means = clf.cv_results_['mean_test_score']\n",
    "    stds = clf.cv_results_['std_test_score']\n",
    "    for mean, std, params in zip(means, stds, clf.cv_results_['params']):\n",
    "        print(\"%0.3f (+/-%0.03f) for %r\"\n",
    "              % (mean, std * 2, params))\n",
    "    print()\n",
    "\n",
    "    print(\"Detailed classification report:\")\n",
    "    print()\n",
    "    print(\"The model is trained on the full development set.\")\n",
    "    print(\"The scores are computed on the full evaluation set.\")\n",
    "    print()\n",
    "    y_true, y_pred = y_test, clf.predict(X_test)\n",
    "    print(classification_report(y_true, y_pred))\n",
    "    print()"
   ]
  },
  {
   "cell_type": "code",
   "execution_count": 94,
   "metadata": {
    "collapsed": false
   },
   "outputs": [
    {
     "name": "stdout",
     "output_type": "stream",
     "text": [
      "[[1106    0]\n",
      " [   0  458]]\n",
      "[[261  16]\n",
      " [ 21  94]]\n"
     ]
    }
   ],
   "source": [
    "from sklearn.metrics import accuracy_score\n",
    "from sklearn.metrics import confusion_matrix\n",
    "clf = RandomForestClassifier(n_estimators=70,class_weight='balanced',n_jobs=4)\n",
    "clf.fit(X_train,y_train)\n",
    "y_true, y_pred = y_train, clf.predict(X_train)\n",
    "print(confusion_matrix(y_true, y_pred))\n",
    "y_true, y_pred = y_test, clf.predict(X_test)\n",
    "print(confusion_matrix(y_true, y_pred))"
   ]
  },
  {
   "cell_type": "code",
   "execution_count": 114,
   "metadata": {
    "collapsed": false
   },
   "outputs": [
    {
     "name": "stdout",
     "output_type": "stream",
     "text": [
      "[[1105    1]\n",
      " [   0  458]]\n",
      "[[276   1]\n",
      " [  0 115]]\n"
     ]
    }
   ],
   "source": [
    "clf = RandomForestClassifier(n_estimators=70,class_weight='balanced',n_jobs=4)\n",
    "clf.fit(X_features,y)\n",
    "y_true, y_pred = y_train, clf.predict(X_train)\n",
    "print(confusion_matrix(y_true, y_pred))\n",
    "y_true, y_pred = y_test, clf.predict(X_test)\n",
    "print(confusion_matrix(y_true, y_pred))"
   ]
  },
  {
   "cell_type": "code",
   "execution_count": 153,
   "metadata": {
    "collapsed": true
   },
   "outputs": [],
   "source": [
    "## ROC CUrve\n",
    "from sklearn.metrics import roc_curve,auc\n",
    "clf = RandomForestClassifier(n_estimators=70,class_weight='balanced',n_jobs=4)\n",
    "y_score = clf.fit(X_train, y_train).predict_proba(X_test)\n"
   ]
  },
  {
   "cell_type": "code",
   "execution_count": 156,
   "metadata": {
    "collapsed": false
   },
   "outputs": [],
   "source": [
    "roc_auc[1] = auc(fpr[1], tpr[1])"
   ]
  },
  {
   "cell_type": "code",
   "execution_count": 169,
   "metadata": {
    "collapsed": false
   },
   "outputs": [
    {
     "data": {
      "text/plain": [
       "0.95151467587505889"
      ]
     },
     "execution_count": 169,
     "metadata": {},
     "output_type": "execute_result"
    }
   ],
   "source": [
    "auc(fpr[1], tpr[1])"
   ]
  },
  {
   "cell_type": "code",
   "execution_count": 167,
   "metadata": {
    "collapsed": false
   },
   "outputs": [
    {
     "data": {
      "text/plain": [
       "array([ 0.0173913 ,  0.03478261,  0.05217391,  0.07826087,  0.08695652,\n",
       "        0.12173913,  0.15652174,  0.1826087 ,  0.25217391,  0.29565217,\n",
       "        0.35652174,  0.36521739,  0.4173913 ,  0.44347826,  0.46086957,\n",
       "        0.50434783,  0.52173913,  0.53913043,  0.5826087 ,  0.6       ,\n",
       "        0.6       ,  0.60869565,  0.6173913 ,  0.64347826,  0.68695652,\n",
       "        0.70434783,  0.71304348,  0.73043478,  0.73913043,  0.75652174,\n",
       "        0.76521739,  0.79130435,  0.8       ,  0.82608696,  0.85217391,\n",
       "        0.87826087,  0.88695652,  0.88695652,  0.89565217,  0.90434783,\n",
       "        0.90434783,  0.90434783,  0.90434783,  0.90434783,  0.91304348,\n",
       "        0.93913043,  0.93913043,  0.93913043,  0.93913043,  0.94782609,\n",
       "        0.94782609,  0.94782609,  0.96521739,  0.97391304,  0.9826087 ,\n",
       "        0.9826087 ,  0.99130435,  1.        ,  1.        ,  1.        ,\n",
       "        1.        ,  1.        ,  1.        ,  1.        ])"
      ]
     },
     "execution_count": 167,
     "metadata": {},
     "output_type": "execute_result"
    }
   ],
   "source": [
    "tpr[1]"
   ]
  },
  {
   "cell_type": "code",
   "execution_count": 168,
   "metadata": {
    "collapsed": false
   },
   "outputs": [
    {
     "data": {
      "image/png": "[encoded data removed]",
      "text/plain": [
       "<matplotlib.figure.Figure at 0x112bb8cc0>"
      ]
     },
     "metadata": {},
     "output_type": "display_data"
    }
   ],
   "source": [
    "fpr = dict()\n",
    "tpr = dict()\n",
    "roc_auc = dict()\n",
    "for i in range(2):\n",
    "    ytrue = np.array(y_test==i,dtype=int).reshape(-1,1)\n",
    "    fpr[i], tpr[i], _ = roc_curve(ytrue, y_score[:, i])\n",
    "    roc_auc[i] = auc(fpr[i], tpr[i])\n",
    "plt.figure()\n",
    "lw = 2\n",
    "plt.plot(fpr[1], tpr[1], color='darkorange',\n",
    "         lw=lw, label='ROC curve stable 1' )\n",
    "plt.plot(fpr[0], tpr[0], color='darkorange',\n",
    "         lw=lw, label='ROC curve stable 0' )\n",
    "plt.plot([0, 1], [0, 1], color='navy', lw=lw, linestyle='--')\n",
    "plt.xlim([0.0, 1.0])\n",
    "plt.ylim([0.0, 1.05])\n",
    "plt.xlabel('False Positive Rate')\n",
    "plt.ylabel('True Positive Rate')\n",
    "plt.title('Receiver operating characteristic RF')\n",
    "plt.legend(loc=\"best\")\n",
    "plt.show()"
   ]
  },
  {
   "cell_type": "code",
   "execution_count": 125,
   "metadata": {
    "collapsed": false
   },
   "outputs": [],
   "source": [
    "## validation Curve\n",
    "from sklearn.model_selection import validation_curve\n",
    "from sklearn.utils import shuffle\n",
    "X_shuffled, y_shuffled = shuffle(X_features, y, random_state=0)\n",
    "my_param_range=[20,30,50,70,90,120,150,200,300]\n",
    "train_scores, valid_scores = validation_curve(clf, X_shuffled, y_shuffled, \n",
    "                                              param_name=\"n_estimators\", \n",
    "                                              param_range=my_param_range, cv= mycv, scoring=\"precision\",\n",
    "                                              n_jobs = 4)\n"
   ]
  },
  {
   "cell_type": "code",
   "execution_count": 122,
   "metadata": {
    "collapsed": false
   },
   "outputs": [
    {
     "data": {
      "text/plain": [
       "1383"
      ]
     },
     "execution_count": 122,
     "metadata": {},
     "output_type": "execute_result"
    }
   ],
   "source": [
    "len(y_shuffled[y_shuffled==0])"
   ]
  },
  {
   "cell_type": "code",
   "execution_count": 126,
   "metadata": {
    "collapsed": false
   },
   "outputs": [
    {
     "data": {
      "image/png": "[encoded data removed]",
      "text/plain": [
       "<matplotlib.figure.Figure at 0x11329e828>"
      ]
     },
     "metadata": {},
     "output_type": "display_data"
    }
   ],
   "source": [
    "train_scores_mean = np.mean(train_scores, axis=1)\n",
    "train_scores_std = np.std(train_scores, axis=1)\n",
    "test_scores_mean = np.mean(valid_scores, axis=1)\n",
    "test_scores_std = np.std(valid_scores, axis=1)\n",
    "\n",
    "import matplotlib.pyplot as plt\n",
    "\n",
    "plt.title(\"Validation Curve with RF\")\n",
    "plt.xlabel(\"number of estimators\")\n",
    "plt.ylabel(\"Precision Score\")\n",
    "plt.ylim(0.0, 1.1)\n",
    "lw = 2\n",
    "param_range=my_param_range\n",
    "plt.plot(param_range, train_scores_mean, label=\"Training score\",\n",
    "             color=\"darkorange\", lw=lw)\n",
    "plt.fill_between(param_range, train_scores_mean - train_scores_std,\n",
    "                 train_scores_mean + train_scores_std, alpha=0.2,\n",
    "                 color=\"darkorange\", lw=lw)\n",
    "plt.plot(param_range, test_scores_mean, label=\"Cross-validation score\",\n",
    "             color=\"navy\", lw=lw)\n",
    "plt.fill_between(param_range, test_scores_mean - test_scores_std,\n",
    "                 test_scores_mean + test_scores_std, alpha=0.2,\n",
    "                 color=\"navy\", lw=lw)\n",
    "plt.legend(loc=\"best\")\n",
    "plt.show()"
   ]
  },
  {
   "cell_type": "code",
   "execution_count": 127,
   "metadata": {
    "collapsed": false
   },
   "outputs": [
    {
     "data": {
      "text/plain": [
       "<module 'matplotlib.pyplot' from '/Users/liwei/anaconda3/lib/python3.5/site-packages/matplotlib/pyplot.py'>"
      ]
     },
     "execution_count": 127,
     "metadata": {},
     "output_type": "execute_result"
    },
    {
     "data": {
      "image/png": "[encoded data removed]",
      "text/plain": [
       "<matplotlib.figure.Figure at 0x1131587b8>"
      ]
     },
     "metadata": {},
     "output_type": "display_data"
    }
   ],
   "source": [
    "from sklearn.model_selection import learning_curve\n",
    "\n",
    "def plot_learning_curve(estimator, title, X, y, ylim=None, cv=None,\n",
    "                        n_jobs=1, train_sizes=np.linspace(.1, 1.0, 5)):\n",
    "    plt.figure()\n",
    "    plt.title(title)\n",
    "    if ylim is not None:\n",
    "        plt.ylim(*ylim)\n",
    "    plt.xlabel(\"Training examples\")\n",
    "    plt.ylabel(\"Score\")\n",
    "    train_sizes, train_scores, test_scores = learning_curve(\n",
    "        estimator, X, y, cv=cv, n_jobs=n_jobs, train_sizes=train_sizes)\n",
    "    train_scores_mean = np.mean(train_scores, axis=1)\n",
    "    train_scores_std = np.std(train_scores, axis=1)\n",
    "    test_scores_mean = np.mean(test_scores, axis=1)\n",
    "    test_scores_std = np.std(test_scores, axis=1)\n",
    "    plt.grid()\n",
    "\n",
    "    plt.fill_between(train_sizes, train_scores_mean - train_scores_std,\n",
    "                     train_scores_mean + train_scores_std, alpha=0.1,\n",
    "                     color=\"r\")\n",
    "    plt.fill_between(train_sizes, test_scores_mean - test_scores_std,\n",
    "                     test_scores_mean + test_scores_std, alpha=0.1, color=\"g\")\n",
    "    plt.plot(train_sizes, train_scores_mean, 'o-', color=\"r\",\n",
    "             label=\"Training score\")\n",
    "    plt.plot(train_sizes, test_scores_mean, 'o-', color=\"g\",\n",
    "             label=\"Cross-validation score\")\n",
    "\n",
    "    plt.legend(loc=\"best\")\n",
    "    return plt\n",
    "\n",
    "title = \"Learning Curves (Random Forests)\"\n",
    "plot_learning_curve(clf, title, X_shuffled, y_shuffled, ylim=(0.5, 1.01), cv=mycv, n_jobs=4)"
   ]
  },
  {
   "cell_type": "code",
   "execution_count": 45,
   "metadata": {
    "collapsed": false
   },
   "outputs": [
    {
     "name": "stdout",
     "output_type": "stream",
     "text": [
      "Optimal number of features : 93\n"
     ]
    },
    {
     "data": {
      "image/png": "[encoded data removed]",
      "text/plain": [
       "<matplotlib.figure.Figure at 0x122faf7f0>"
      ]
     },
     "metadata": {},
     "output_type": "display_data"
    }
   ],
   "source": [
    "import pylab as pl\n",
    "from sklearn.model_selection import StratifiedKFold\n",
    "from sklearn.feature_selection import RFECV\n",
    "from sklearn.datasets import make_classification\n",
    "from sklearn.ensemble import RandomForestClassifier\n",
    "from sklearn.neural_network import MLPClassifier\n",
    "from sklearn.linear_model import SGDClassifier\n",
    "clf = RandomForestClassifier(n_estimators=100)\n",
    "## clf = SGDClassifier(loss='hinge', penalty='l1', alpha=1e-3, n_iter=5, random_state=34)\n",
    "# The \"accuracy\" scoring is proportional to the number of correct\n",
    "# classifications\n",
    "rfecv = RFECV(estimator=clf, step=1, cv=mycv,\n",
    "              scoring='accuracy')\n",
    "rfecv.fit(X_features, y)\n",
    "\n",
    "print(\"Optimal number of features : %d\" % rfecv.n_features_)\n",
    "\n",
    "# Plot number of features VS. cross-validation scores\n",
    "pl.xlabel(\"Number of features selected\")\n",
    "pl.ylabel(\"Cross validation score (nb of correct classifications)\")\n",
    "pl.plot(range(1, len(rfecv.grid_scores_) + 1), rfecv.grid_scores_)\n",
    "pl.show()"
   ]
  },
  {
   "cell_type": "code",
   "execution_count": 46,
   "metadata": {
    "collapsed": false
   },
   "outputs": [
    {
     "data": {
      "image/png": "[encoded data removed]",
      "text/plain": [
       "<matplotlib.figure.Figure at 0x11ef2a320>"
      ]
     },
     "metadata": {},
     "output_type": "display_data"
    }
   ],
   "source": [
    "pl.xlabel(\"Number of features selected\")\n",
    "pl.ylabel(\"Cross validation score (nb of correct classifications)\")\n",
    "pl.plot(range(1, 20 + 1), rfecv.grid_scores_[0:20])\n",
    "pl.show()"
   ]
  },
  {
   "cell_type": "code",
   "execution_count": 8,
   "metadata": {
    "collapsed": false
   },
   "outputs": [
    {
     "data": {
      "text/plain": [
       "(1956, 864)"
      ]
     },
     "execution_count": 8,
     "metadata": {},
     "output_type": "execute_result"
    }
   ],
   "source": [
    "X.shape"
   ]
  },
  {
   "cell_type": "code",
   "execution_count": 9,
   "metadata": {
    "collapsed": false
   },
   "outputs": [
    {
     "name": "stdout",
     "output_type": "stream",
     "text": [
      "Optimal number of features : 864\n"
     ]
    },
    {
     "data": {
      "image/png": "[encoded data removed]",
      "text/plain": [
       "<matplotlib.figure.Figure at 0x1207b6f60>"
      ]
     },
     "metadata": {},
     "output_type": "display_data"
    }
   ],
   "source": [
    "import pylab as pl\n",
    "from sklearn.model_selection import StratifiedKFold\n",
    "from sklearn.feature_selection import RFECV\n",
    "from sklearn.datasets import make_classification\n",
    "from sklearn.ensemble import RandomForestClassifier\n",
    "from sklearn.neural_network import MLPClassifier\n",
    "from sklearn.linear_model import SGDClassifier\n",
    "clf = RandomForestClassifier(n_estimators=50)\n",
    "## clf = SGDClassifier(loss='hinge', penalty='l1', alpha=1e-3, n_iter=5, random_state=34)\n",
    "# The \"accuracy\" scoring is proportional to the number of correct\n",
    "# classifications\n",
    "rfecv = RFECV(estimator=clf, step=1, cv=StratifiedKFold(5),\n",
    "              scoring='accuracy')\n",
    "rfecv.fit(X, y)\n",
    "\n",
    "print(\"Optimal number of features : %d\" % rfecv.n_features_)\n",
    "\n",
    "# Plot number of features VS. cross-validation scores\n",
    "pl.xlabel(\"Number of features selected\")\n",
    "pl.ylabel(\"Cross validation score (nb of correct classifications)\")\n",
    "pl.plot(range(1, len(rfecv.grid_scores_) + 1), rfecv.grid_scores_)\n",
    "pl.show()"
   ]
  },
  {
   "cell_type": "code",
   "execution_count": 11,
   "metadata": {
    "collapsed": false
   },
   "outputs": [
    {
     "data": {
      "image/png": "[encoded data removed]",
      "text/plain": [
       "<matplotlib.figure.Figure at 0x1242edd68>"
      ]
     },
     "metadata": {},
     "output_type": "display_data"
    }
   ],
   "source": [
    "# Plot number of features VS. cross-validation scores\n",
    "pl.xlabel(\"Number of features selected\")\n",
    "pl.ylabel(\"Cross validation score (nb of correct classifications)\")\n",
    "pl.plot(range(1, 100 + 1), rfecv.grid_scores_[0:100])\n",
    "pl.show()"
   ]
  },
  {
   "cell_type": "code",
   "execution_count": 41,
   "metadata": {
    "collapsed": false
   },
   "outputs": [],
   "source": [
    "# Authors: Robert McGibbon, Joel Nothman\n",
    "\n",
    "import numpy as np\n",
    "import pylab as pl\n",
    "\n",
    "from sklearn.model_selection import GridSearchCV\n",
    "from sklearn.pipeline import Pipeline\n",
    "from sklearn.svm import LinearSVC\n",
    "from sklearn.decomposition import PCA, NMF\n",
    "from sklearn.feature_selection import SelectKBest\n",
    "from sklearn.ensemble import RandomForestClassifier\n",
    "\n",
    "\n",
    "pipe = Pipeline([\n",
    "    ('reduce_dim', PCA()),\n",
    "    ('classify', RandomForestClassifier())\n",
    "])\n",
    "## MLPClassifier(activation='logistic', solver='adam', alpha=1e-5, hidden_layer_sizes=(40, 20, 10, 5))\n",
    "N_FEATURES_OPTIONS = [1, 3,  5, 9, 15, 21, 30]\n",
    "N_ESTIMATORS = [50,  100, 150]\n",
    "param_grid = [\n",
    "    {\n",
    "        'reduce_dim': [PCA()],\n",
    "        'reduce_dim__n_components': N_FEATURES_OPTIONS,\n",
    "        'classify__n_estimators': N_ESTIMATORS\n",
    "    },\n",
    "    {\n",
    "        'reduce_dim': [SelectKBest()],\n",
    "        'reduce_dim__k': N_FEATURES_OPTIONS,\n",
    "        'classify__n_estimators': N_ESTIMATORS\n",
    "    },\n",
    "]\n",
    "reducer_labels = ['PCA', 'KBest()']\n",
    "\n",
    "grid = GridSearchCV(pipe, cv=mycv, n_jobs=2, param_grid=param_grid)\n",
    "\n",
    "grid.fit(X_features, y)\n",
    "\n",
    "mean_scores = np.array(grid.cv_results_['mean_test_score'])\n",
    "# scores are in the order of param_grid iteration, which is alphabetical\n",
    "mean_scores = mean_scores.reshape(len(N_ESTIMATORS), -1, len(N_FEATURES_OPTIONS))\n",
    "# select score for best C\n",
    "mean_scores = mean_scores.max(axis=0)\n",
    "bar_offsets = (np.arange(len(N_FEATURES_OPTIONS)) *\n",
    "               (len(reducer_labels) + 1) + .5)"
   ]
  },
  {
   "cell_type": "code",
   "execution_count": 42,
   "metadata": {
    "collapsed": false
   },
   "outputs": [],
   "source": [
    "mean_scores = np.array(grid.cv_results_['mean_test_score'])\n",
    "# scores are in the order of param_grid iteration, which is alphabetical\n",
    "mean_scores = mean_scores.reshape(len(N_ESTIMATORS), -1, len(N_FEATURES_OPTIONS))\n",
    "# select score for best C\n",
    "mean_scores = mean_scores.max(axis=0)\n",
    "bar_offsets = (np.arange(len(N_FEATURES_OPTIONS)) *\n",
    "               (len(reducer_labels) + 1) + .5)"
   ]
  },
  {
   "cell_type": "code",
   "execution_count": 44,
   "metadata": {
    "collapsed": false
   },
   "outputs": [
    {
     "data": {
      "text/plain": [
       "<matplotlib.legend.Legend at 0x1230bf470>"
      ]
     },
     "execution_count": 44,
     "metadata": {},
     "output_type": "execute_result"
    },
    {
     "data": {
      "image/png": "[encoded data removed]",
      "text/plain": [
       "<matplotlib.figure.Figure at 0x1230bf4a8>"
      ]
     },
     "metadata": {},
     "output_type": "display_data"
    }
   ],
   "source": [
    "COLORS = 'bgrcmyk'\n",
    "reducer_labels = ['PCA', 'KBest()', 'another()']\n",
    "for i, (label, reducer_scores) in enumerate(zip(reducer_labels, mean_scores)):\n",
    "    pl.bar(bar_offsets + i, reducer_scores, label=label, color=COLORS[i])\n",
    "\n",
    "pl.title(\"Comparing feature reduction techniques\")\n",
    "pl.xlabel('Reduced number of features')\n",
    "pl.xticks(bar_offsets + len(reducer_labels) / 2, N_FEATURES_OPTIONS)\n",
    "pl.ylabel('stability classification accuracy')\n",
    "pl.ylim((0, 1))\n",
    "pl.legend(loc='upper right')"
   ]
  },
  {
   "cell_type": "code",
   "execution_count": 207,
   "metadata": {
    "collapsed": false,
    "scrolled": true
   },
   "outputs": [
    {
     "name": "stdout",
     "output_type": "stream",
     "text": [
      "TRAIN: [ 301  302  303 ..., 1953 1954 1955] TEST: [  0   1   2   3   4   5   6   7   8   9  10  11  12  13  14  15  16  17\n",
      "  18  19  20  21  22  23  24  25  26  27  28  29  30  31  32  33  34  35\n",
      "  36  37  38  39  40  41  42  43  44  45  46  47  48  49  50  51  52  53\n",
      "  54  55  56  57  58  59  60  61  62  63  64  65  66  67  68  69  70  71\n",
      "  72  73  74  75  76  77  78  79  80  81  82  83  84  85  86  87  88  89\n",
      "  90  91  92  93  94  95  96  97  98  99 100 101 102 103 104 105 106 107\n",
      " 108 109 110 111 112 113 114 115 116 117 118 119 120 121 122 123 124 125\n",
      " 126 127 128 129 130 131 132 133 134 135 136 137 138 139 140 141 142 143\n",
      " 144 145 146 147 148 149 150 151 152 153 154 155 156 157 158 159 160 161\n",
      " 162 163 164 165 166 167 168 169 170 171 172 173 174 175 176 177 178 179\n",
      " 180 181 182 183 184 185 186 187 188 189 190 191 192 193 194 195 196 197\n",
      " 198 199 200 201 202 203 204 205 206 207 208 209 210 211 212 213 214 215\n",
      " 216 217 218 219 220 221 222 223 224 225 226 227 228 229 230 231 232 233\n",
      " 234 235 236 237 238 239 240 241 242 243 244 245 246 247 248 249 250 251\n",
      " 252 253 254 255 256 257 258 259 260 261 262 263 264 265 266 267 268 269\n",
      " 270 271 272 273 274 275 276 277 278 279 280 281 282 283 284 285 286 287\n",
      " 288 289 290 291 292 293 294 295 296 297 298 299 300 304 305 321 331 334\n",
      " 336 337 338 339 340 343 346 349 350 351 352 355 358 361 363 364 372 374\n",
      " 378 380 383 385 393 406 407 408 409 412 415 417 429 430 431 440 441 442\n",
      " 459 460 463 464 470 471 473 474 475 477 479 480 482 483 484 485 486 487\n",
      " 493 494 496 498 499 500 502 505 508 509 514 517 518 543 544 546 549 550\n",
      " 555 558 559 586 589 590 595 627 628 631 632 636 638 640]\n",
      "TRAIN: [   0    1    2 ..., 1953 1954 1955] TEST: [301 302 303 306 307 308 309 310 311 312 313 314 315 316 317 318 319 320\n",
      " 322 323 324 325 326 327 328 329 330 332 333 335 341 342 344 345 347 348\n",
      " 353 354 356 357 359 360 362 365 366 367 368 369 370 371 373 375 376 377\n",
      " 379 381 382 384 386 387 388 389 390 391 392 394 395 396 397 398 399 400\n",
      " 401 402 403 404 405 410 411 413 414 416 418 419 420 421 422 423 424 425\n",
      " 426 427 428 432 433 434 435 436 437 438 439 443 444 445 446 447 448 449\n",
      " 450 451 452 453 454 455 456 457 458 461 462 465 466 467 468 469 472 476\n",
      " 478 481 488 489 490 491 492 495 497 501 503 504 506 507 510 511 512 513\n",
      " 515 516 519 520 521 522 523 524 525 526 527 528 529 530 531 532 533 534\n",
      " 535 536 537 538 539 540 541 542 545 547 548 551 552 553 554 556 557 560\n",
      " 561 562 563 564 565 566 567 568 569 570 571 572 573 574 575 576 577 578\n",
      " 579 580 581 582 583 584 585 587 588 591 592 593 594 596 597 598 599 600\n",
      " 601 602 603 604 605 606 607 608 609 610 611 612 613 614 615 616 617 618\n",
      " 619 620 621 622 623 624 625 626 629 630 633 634 635 637 639 641 642 643\n",
      " 644 645 646 647 648 649 650 651 652 653 654 655 656 657 658 659 660 661\n",
      " 662 663 664 665 666 667 668 669 670 671 672 673 674 675 676 677 678 679\n",
      " 680 681 682 683 684 685 686 687 729 730 731 734 737 738 739 741 742 743\n",
      " 744 746 747 748 751 755 756 757 760 763 764 765 768 770 798 799 802 805\n",
      " 806 807 809 810 811 812 813 819 820 821 824 832 833 834 835 838 839 841\n",
      " 842 843 846 848 873 874 875 876 879 880 882 883 884 885 886 887 888 889\n",
      " 890 891 894 896 897 898 899 900 901 902 903 904 906 907 909 910 911 912\n",
      " 913 914 915 916 917 918 919 920 921 922 923 924 926 927]\n",
      "TRAIN: [   0    1    2 ..., 1953 1954 1955] TEST: [ 688  689  690  691  692  693  694  695  696  697  698  699  700  701  702\n",
      "  703  704  705  706  707  708  709  710  711  712  713  714  715  716  717\n",
      "  718  719  720  721  722  723  724  725  726  727  728  732  733  735  736\n",
      "  740  745  749  750  752  753  754  758  759  761  762  766  767  769  771\n",
      "  772  773  774  775  776  777  778  779  780  781  782  783  784  785  786\n",
      "  787  788  789  790  791  792  793  794  795  796  797  800  801  803  804\n",
      "  808  814  815  816  817  818  822  823  825  826  827  828  829  830  831\n",
      "  836  837  840  844  845  847  849  850  851  852  853  854  855  856  857\n",
      "  858  859  860  861  862  863  864  865  866  867  868  869  870  871  872\n",
      "  877  878  881  892  893  895  905  908  925  928  929  930  931  932  933\n",
      "  934  935  936  937  938  939  940  941  942  943  944  945  946  947  948\n",
      "  949  950  951  952  953  954  955  956  957  958  959  960  961  962  963\n",
      "  964  965  966  967  968  969  970  971  972  973  974  975  976  977  978\n",
      "  979  980  981  982  983  984  985  986  987  988  989  990  991  992  993\n",
      "  994  995  996  997  998  999 1000 1001 1002 1003 1004 1005 1006 1007 1008\n",
      " 1009 1010 1011 1012 1013 1014 1015 1016 1017 1018 1019 1020 1021 1022 1023\n",
      " 1024 1025 1026 1027 1028 1029 1030 1031 1032 1033 1034 1035 1036 1037 1038\n",
      " 1039 1040 1041 1042 1043 1044 1045 1046 1047 1048 1049 1050 1051 1052 1053\n",
      " 1054 1055 1056 1057 1058 1059 1060 1061 1062 1063 1064 1065 1066 1067 1068\n",
      " 1069 1070 1071 1072 1073 1074 1075 1076 1077 1078 1079 1080 1081 1082 1083\n",
      " 1084 1085 1086 1087 1088 1089 1090 1091 1092 1093 1094 1095 1096 1097 1098\n",
      " 1099 1100 1101 1102 1103 1104 1105 1106 1107 1108 1109 1110 1111 1112 1113\n",
      " 1114 1115 1116 1117 1118 1119 1120 1121 1122 1123 1124 1125 1126 1127 1128\n",
      " 1129 1130 1131 1132 1133 1134 1135 1136 1137 1138 1139 1140 1141 1142 1146\n",
      " 1151 1153 1154 1155 1156 1158 1159 1160 1162 1168 1175 1181 1182 1185 1187\n",
      " 1189 1191 1196 1198 1221 1222 1223 1224 1225 1228 1229 1230 1232 1233 1234\n",
      " 1235 1236]\n",
      "TRAIN: [   0    1    2 ..., 1953 1954 1955] TEST: [1143 1144 1145 1147 1148 1149 1150 1152 1157 1161 1163 1164 1165 1166 1167\n",
      " 1169 1170 1171 1172 1173 1174 1176 1177 1178 1179 1180 1183 1184 1186 1188\n",
      " 1190 1192 1193 1194 1195 1197 1199 1200 1201 1202 1203 1204 1205 1206 1207\n",
      " 1208 1209 1210 1211 1212 1213 1214 1215 1216 1217 1218 1219 1220 1226 1227\n",
      " 1231 1237 1238 1239 1240 1241 1242 1243 1244 1245 1246 1247 1248 1249 1250\n",
      " 1251 1252 1253 1254 1255 1256 1257 1258 1259 1260 1261 1262 1263 1264 1265\n",
      " 1266 1267 1268 1269 1270 1271 1272 1273 1274 1275 1276 1277 1278 1279 1280\n",
      " 1281 1282 1283 1284 1285 1286 1287 1288 1289 1290 1291 1292 1293 1294 1295\n",
      " 1296 1297 1298 1299 1300 1301 1302 1303 1304 1305 1306 1307 1308 1309 1310\n",
      " 1311 1312 1313 1314 1315 1316 1317 1318 1319 1320 1321 1322 1323 1324 1325\n",
      " 1326 1327 1328 1329 1330 1331 1332 1333 1334 1335 1336 1337 1338 1339 1340\n",
      " 1341 1342 1343 1344 1345 1346 1347 1348 1349 1350 1351 1352 1353 1354 1355\n",
      " 1356 1357 1358 1359 1360 1361 1362 1363 1364 1365 1366 1367 1368 1369 1370\n",
      " 1371 1372 1373 1374 1375 1376 1377 1378 1379 1380 1381 1382 1383 1384 1385\n",
      " 1386 1387 1388 1389 1390 1391 1392 1393 1394 1395 1396 1397 1398 1399 1400\n",
      " 1401 1402 1403 1404 1405 1406 1407 1408 1409 1410 1411 1412 1413 1414 1415\n",
      " 1416 1417 1418 1419 1420 1421 1422 1423 1424 1425 1426 1427 1428 1429 1430\n",
      " 1431 1432 1433 1434 1435 1436 1437 1438 1439 1440 1441 1442 1443 1444 1445\n",
      " 1446 1447 1448 1449 1450 1451 1452 1453 1454 1455 1456 1457 1458 1459 1460\n",
      " 1461 1462 1463 1464 1465 1466 1467 1468 1469 1470 1471 1472 1473 1474 1475\n",
      " 1476 1477 1478 1479 1480 1481 1482 1483 1484 1485 1486 1487 1488 1489 1490\n",
      " 1491 1492 1493 1494 1495 1496 1497 1498 1499 1500 1501 1502 1503 1504 1505\n",
      " 1506 1507 1508 1509 1510 1511 1512 1513 1514 1515 1516 1517 1518 1519 1520\n",
      " 1521 1522 1523 1524 1525 1526 1527 1528 1529 1530 1531 1532 1533 1534 1535\n",
      " 1536 1537 1538 1539 1540 1541 1542 1543 1544 1545 1546 1547 1548 1549 1550\n",
      " 1551 1552 1553 1554 1556 1558 1559 1560 1561 1564 1565 1566 1567 1571 1578]\n",
      "TRAIN: [   0    1    2 ..., 1567 1571 1578] TEST: [1555 1557 1562 1563 1568 1569 1570 1572 1573 1574 1575 1576 1577 1579 1580\n",
      " 1581 1582 1583 1584 1585 1586 1587 1588 1589 1590 1591 1592 1593 1594 1595\n",
      " 1596 1597 1598 1599 1600 1601 1602 1603 1604 1605 1606 1607 1608 1609 1610\n",
      " 1611 1612 1613 1614 1615 1616 1617 1618 1619 1620 1621 1622 1623 1624 1625\n",
      " 1626 1627 1628 1629 1630 1631 1632 1633 1634 1635 1636 1637 1638 1639 1640\n",
      " 1641 1642 1643 1644 1645 1646 1647 1648 1649 1650 1651 1652 1653 1654 1655\n",
      " 1656 1657 1658 1659 1660 1661 1662 1663 1664 1665 1666 1667 1668 1669 1670\n",
      " 1671 1672 1673 1674 1675 1676 1677 1678 1679 1680 1681 1682 1683 1684 1685\n",
      " 1686 1687 1688 1689 1690 1691 1692 1693 1694 1695 1696 1697 1698 1699 1700\n",
      " 1701 1702 1703 1704 1705 1706 1707 1708 1709 1710 1711 1712 1713 1714 1715\n",
      " 1716 1717 1718 1719 1720 1721 1722 1723 1724 1725 1726 1727 1728 1729 1730\n",
      " 1731 1732 1733 1734 1735 1736 1737 1738 1739 1740 1741 1742 1743 1744 1745\n",
      " 1746 1747 1748 1749 1750 1751 1752 1753 1754 1755 1756 1757 1758 1759 1760\n",
      " 1761 1762 1763 1764 1765 1766 1767 1768 1769 1770 1771 1772 1773 1774 1775\n",
      " 1776 1777 1778 1779 1780 1781 1782 1783 1784 1785 1786 1787 1788 1789 1790\n",
      " 1791 1792 1793 1794 1795 1796 1797 1798 1799 1800 1801 1802 1803 1804 1805\n",
      " 1806 1807 1808 1809 1810 1811 1812 1813 1814 1815 1816 1817 1818 1819 1820\n",
      " 1821 1822 1823 1824 1825 1826 1827 1828 1829 1830 1831 1832 1833 1834 1835\n",
      " 1836 1837 1838 1839 1840 1841 1842 1843 1844 1845 1846 1847 1848 1849 1850\n",
      " 1851 1852 1853 1854 1855 1856 1857 1858 1859 1860 1861 1862 1863 1864 1865\n",
      " 1866 1867 1868 1869 1870 1871 1872 1873 1874 1875 1876 1877 1878 1879 1880\n",
      " 1881 1882 1883 1884 1885 1886 1887 1888 1889 1890 1891 1892 1893 1894 1895\n",
      " 1896 1897 1898 1899 1900 1901 1902 1903 1904 1905 1906 1907 1908 1909 1910\n",
      " 1911 1912 1913 1914 1915 1916 1917 1918 1919 1920 1921 1922 1923 1924 1925\n",
      " 1926 1927 1928 1929 1930 1931 1932 1933 1934 1935 1936 1937 1938 1939 1940\n",
      " 1941 1942 1943 1944 1945 1946 1947 1948 1949 1950 1951 1952 1953 1954 1955]\n"
     ]
    }
   ],
   "source": [
    "from sklearn.decomposition import PCA\n",
    "from sklearn.feature_selection import SelectKBest\n",
    "from sklearn.pipeline import Pipeline, FeatureUnion\n",
    "from sklearn.linear_model import LinearRegression\n",
    "from sklearn.cross_validation import train_test_split\n",
    "from sklearn.svm import SVR\n",
    "\n",
    "X_train, X_test, y_train, y_test = train_test_split(X_features, y, test_size=0.2, random_state=1)\n",
    "\n",
    "from sklearn.model_selection import StratifiedKFold\n",
    "skf = StratifiedKFold(n_splits=5)\n",
    "StratifiedKFold(n_splits=2, random_state=None, shuffle=False)\n",
    "for train_index, test_index in skf.split(X_features, y):\n",
    "    print(\"TRAIN:\", train_index, \"TEST:\", test_index)\n",
    "    X_train, X_test = X_features[train_index], X_features[test_index]\n",
    "    y_train, y_test = y[train_index], y[test_index]"
   ]
  },
  {
   "cell_type": "code",
   "execution_count": 95,
   "metadata": {
    "collapsed": false
   },
   "outputs": [
    {
     "data": {
      "text/plain": [
       "array([[ 16.62083945,   6.74159888,   4.17025959, ...,  -0.05547002,\n",
       "         -0.05547002,  -0.05547002],\n",
       "       [  1.70356973,  -6.13999952,   3.90535532, ...,  -0.05547002,\n",
       "         -0.05547002,  -0.05547002],\n",
       "       [ -8.49265395,  -6.91084788,  -2.28482821, ...,  -0.05547002,\n",
       "         -0.05547002,  -0.05547002],\n",
       "       ..., \n",
       "       [ -6.95784602,   9.53452291,  -3.87328363, ...,  -0.05547002,\n",
       "         -0.05547002,  -0.05547002],\n",
       "       [ -1.61959596,  -7.43360657,   1.63103641, ...,  -0.05547002,\n",
       "         -0.05547002,  -0.05547002],\n",
       "       [ -7.5789749 ,  -5.35710109,  -1.39782635, ...,  -0.05547002,\n",
       "         -0.05547002,  -0.05547002]])"
      ]
     },
     "execution_count": 95,
     "metadata": {},
     "output_type": "execute_result"
    }
   ],
   "source": [
    "X_train"
   ]
  },
  {
   "cell_type": "code",
   "execution_count": 23,
   "metadata": {
    "collapsed": false
   },
   "outputs": [
    {
     "data": {
      "text/plain": [
       "0.70654631083202513"
      ]
     },
     "execution_count": 23,
     "metadata": {},
     "output_type": "execute_result"
    }
   ],
   "source": [
    "from sklearn.svm import SVC\n",
    "pca = PCA(n_components=5)\n",
    "X_1 = pca.fit_transform(X_features, y)\n",
    "clf = SVC()\n",
    "scores = cross_val_score(clf, X_1, y, cv = 5)\n",
    "scores.mean()"
   ]
  },
  {
   "cell_type": "code",
   "execution_count": 133,
   "metadata": {
    "collapsed": false
   },
   "outputs": [
    {
     "data": {
      "text/plain": [
       "SVC(C=1.0, cache_size=200, class_weight=None, coef0=0.0,\n",
       "  decision_function_shape=None, degree=3, gamma='auto', kernel='rbf',\n",
       "  max_iter=-1, probability=False, random_state=None, shrinking=True,\n",
       "  tol=0.001, verbose=False)"
      ]
     },
     "execution_count": 133,
     "metadata": {},
     "output_type": "execute_result"
    }
   ],
   "source": [
    "clf"
   ]
  },
  {
   "cell_type": "code",
   "execution_count": 118,
   "metadata": {
    "collapsed": false
   },
   "outputs": [],
   "source": [
    "from sklearn.svm import LinearSVC\n",
    "clf = LinearSVC(C=100)\n",
    "clf.fit(X_train, y_train)\n",
    "y_pred = clf.predict(X_test)"
   ]
  },
  {
   "cell_type": "code",
   "execution_count": 96,
   "metadata": {
    "collapsed": false
   },
   "outputs": [],
   "source": [
    "from sklearn.neural_network import MLPClassifier\n",
    "clf = MLPClassifier(activation='logistic', solver='lbfgs', alpha=1e-3, hidden_layer_sizes=(20,7))\n",
    "clf.fit(X_train, y_train)\n",
    "y_pred = clf.predict(X_test)"
   ]
  },
  {
   "cell_type": "code",
   "execution_count": 34,
   "metadata": {
    "collapsed": true
   },
   "outputs": [],
   "source": [
    "?MLPClassifier"
   ]
  },
  {
   "cell_type": "code",
   "execution_count": 194,
   "metadata": {
    "collapsed": false
   },
   "outputs": [
    {
     "data": {
      "text/plain": [
       "0.75064364207221357"
      ]
     },
     "execution_count": 194,
     "metadata": {},
     "output_type": "execute_result"
    }
   ],
   "source": [
    "from sklearn.ensemble import RandomForestClassifier\n",
    "clf = RandomForestClassifier(n_estimators=150)\n",
    "clf.fit(X_train, y_train)\n",
    "y_pred = clf.predict(X_test)\n",
    "scores = cross_val_score(clf, X_features, y, cv = 5)\n",
    "scores.mean()"
   ]
  },
  {
   "cell_type": "code",
   "execution_count": 33,
   "metadata": {
    "collapsed": false
   },
   "outputs": [
    {
     "data": {
      "text/plain": [
       "0.71886708529565679"
      ]
     },
     "execution_count": 33,
     "metadata": {},
     "output_type": "execute_result"
    }
   ],
   "source": [
    "from sklearn.ensemble import AdaBoostClassifier\n",
    "clf = AdaBoostClassifier(n_estimators=150)\n",
    "clf.fit(X_train, y_train)\n",
    "scores = cross_val_score(clf, X_features, y, cv = 5)\n",
    "scores.mean()"
   ]
  },
  {
   "cell_type": "code",
   "execution_count": 59,
   "metadata": {
    "collapsed": false
   },
   "outputs": [
    {
     "data": {
      "text/plain": [
       "0.67245159602302462"
      ]
     },
     "execution_count": 59,
     "metadata": {},
     "output_type": "execute_result"
    }
   ],
   "source": [
    "from sklearn.linear_model import SGDClassifier\n",
    "sdg = SGDClassifier(loss='hinge', penalty='l1', alpha=1e-3, n_iter=5, random_state=34)\n",
    "sdg.fit(X_train, y_train)\n",
    "y_pred = sdg.predict(X_test)\n",
    "scores = cross_val_score(sdg, X_features, y, cv = 5)\n",
    "scores.mean()"
   ]
  },
  {
   "cell_type": "code",
   "execution_count": 192,
   "metadata": {
    "collapsed": false
   },
   "outputs": [
    {
     "data": {
      "text/plain": [
       "0.70332480818414322"
      ]
     },
     "execution_count": 192,
     "metadata": {},
     "output_type": "execute_result"
    }
   ],
   "source": [
    "sum(y_train)/y_train.size"
   ]
  },
  {
   "cell_type": "code",
   "execution_count": 204,
   "metadata": {
    "collapsed": false
   },
   "outputs": [
    {
     "data": {
      "text/plain": [
       "0.89030612244897955"
      ]
     },
     "execution_count": 204,
     "metadata": {},
     "output_type": "execute_result"
    }
   ],
   "source": [
    "clf.score(X=X_test,y=y_test)"
   ]
  },
  {
   "cell_type": "code",
   "execution_count": 202,
   "metadata": {
    "collapsed": false,
    "scrolled": true
   },
   "outputs": [
    {
     "data": {
      "text/plain": [
       "0.72292778649921507"
      ]
     },
     "execution_count": 202,
     "metadata": {},
     "output_type": "execute_result"
    }
   ],
   "source": [
    "from sklearn.model_selection import cross_val_score\n",
    "clf = MLPClassifier(activation='logistic', solver='lbfgs', alpha=1e-3, hidden_layer_sizes=(20, 7))\n",
    "## clf = RandomForestClassifier(n_estimators=150)\n",
    "## clf = LinearSVC(C=100)\n",
    "clf.fit(X_train, y_train)\n",
    "scores = cross_val_score(clf, X_features, y, scoring='accuracy', cv = 5)\n",
    "scores.mean()\n"
   ]
  },
  {
   "cell_type": "code",
   "execution_count": 198,
   "metadata": {
    "collapsed": true
   },
   "outputs": [],
   "source": [
    "?cross_val_score"
   ]
  },
  {
   "cell_type": "code",
   "execution_count": 43,
   "metadata": {
    "collapsed": false
   },
   "outputs": [
    {
     "name": "stdout",
     "output_type": "stream",
     "text": [
      "             precision    recall  f1-score   support\n",
      "\n",
      "        0.0       1.00      1.00      1.00       432\n",
      "        1.0       1.00      1.00      1.00      1035\n",
      "\n",
      "avg / total       1.00      1.00      1.00      1467\n",
      "\n"
     ]
    },
    {
     "data": {
      "text/plain": [
       "array([[ 432,    0],\n",
       "       [   0, 1035]])"
      ]
     },
     "execution_count": 43,
     "metadata": {},
     "output_type": "execute_result"
    }
   ],
   "source": [
    "from sklearn import metrics\n",
    "print(metrics.classification_report(y_train, y_train))\n",
    "metrics.confusion_matrix(y_train, y_train)"
   ]
  },
  {
   "cell_type": "markdown",
   "metadata": {},
   "source": [
    "# Regression"
   ]
  },
  {
   "cell_type": "code",
   "execution_count": 12,
   "metadata": {
    "collapsed": false
   },
   "outputs": [],
   "source": [
    "from sklearn.model_selection import train_test_split\n",
    "X_train, X_test, y_train, y_test = train_test_split(\n",
    "    X_features, yl, test_size=0.2, random_state=0, stratify = y)"
   ]
  },
  {
   "cell_type": "code",
   "execution_count": 16,
   "metadata": {
    "collapsed": false
   },
   "outputs": [
    {
     "data": {
      "text/plain": [
       "0.2928388746803069"
      ]
     },
     "execution_count": 16,
     "metadata": {},
     "output_type": "execute_result"
    }
   ],
   "source": [
    "len(y_train[y_train<=40])/len(y_train)"
   ]
  },
  {
   "cell_type": "code",
   "execution_count": 17,
   "metadata": {
    "collapsed": false
   },
   "outputs": [
    {
     "data": {
      "text/plain": [
       "0.29336734693877553"
      ]
     },
     "execution_count": 17,
     "metadata": {},
     "output_type": "execute_result"
    }
   ],
   "source": [
    "len(y_test[y_test<=40])/len(y_test)"
   ]
  },
  {
   "cell_type": "code",
   "execution_count": 18,
   "metadata": {
    "collapsed": false
   },
   "outputs": [
    {
     "data": {
      "text/plain": [
       "<matplotlib.text.Text at 0x12242df60>"
      ]
     },
     "execution_count": 18,
     "metadata": {},
     "output_type": "execute_result"
    },
    {
     "data": {
      "image/png": "[encoded data removed]",
      "text/plain": [
       "<matplotlib.figure.Figure at 0x1221b4048>"
      ]
     },
     "metadata": {},
     "output_type": "display_data"
    }
   ],
   "source": [
    "from sklearn.svm import SVR\n",
    "\n",
    "##svr_rbf = SVR(kernel='rbf', C=1e3, gamma=0.1)\n",
    "svr_lin = SVR(kernel='linear')\n",
    "##svr_poly = SVR(kernel='poly', C=1e3, degree=2)\n",
    "##y_rbf = svr_rbf.fit(X_train, y_train).predict(X_test)\n",
    "svr_lin.fit(X_train, y_train)\n",
    "##y_poly = svr_poly.fit(X, y).predict(X)\n",
    "\n",
    "\n",
    "##pl.hold('on')\n",
    "#pl.plot (y_test, y_pred, \"bo\", label='RBF model')\n",
    "#pl.plot (y_test, y_lin, \"ro\", label='lin model')\n",
    "#pl.plot (y_test, y_pred, \"ko\", label='poly model')\n",
    "\n",
    "y_plin = svr_lin.predict(X_test)\n",
    "pl.plot (y_test, y_plin, \"bo\", label='lin model')\n",
    "pl.ylim((-40,700))\n",
    "pl.xlim((-5, 700))\n",
    "pl.xlabel(\"EaboveHull\")\n",
    "pl.ylabel(\"Predicted\")"
   ]
  },
  {
   "cell_type": "code",
   "execution_count": 19,
   "metadata": {
    "collapsed": false
   },
   "outputs": [
    {
     "data": {
      "text/plain": [
       "<matplotlib.text.Text at 0x122459668>"
      ]
     },
     "execution_count": 19,
     "metadata": {},
     "output_type": "execute_result"
    },
    {
     "data": {
      "image/png": "[encoded data removed]",
      "text/plain": [
       "<matplotlib.figure.Figure at 0x12218af28>"
      ]
     },
     "metadata": {},
     "output_type": "display_data"
    }
   ],
   "source": [
    "y_plin = svr_lin.predict(X_train)\n",
    "pl.plot (y_train, y_plin, \"bo\", label='lin model')\n",
    "pl.ylim((-40,700))\n",
    "pl.xlim((-5, 700))\n",
    "pl.xlabel(\"EaboveHull\")\n",
    "pl.ylabel(\"Predicted\")"
   ]
  },
  {
   "cell_type": "code",
   "execution_count": 28,
   "metadata": {
    "collapsed": false
   },
   "outputs": [
    {
     "data": {
      "text/plain": [
       "<matplotlib.text.Text at 0x122ea9cf8>"
      ]
     },
     "execution_count": 28,
     "metadata": {},
     "output_type": "execute_result"
    },
    {
     "data": {
      "image/png": "[encoded data removed]",
      "text/plain": [
       "<matplotlib.figure.Figure at 0x122648e80>"
      ]
     },
     "metadata": {},
     "output_type": "display_data"
    }
   ],
   "source": [
    "### try lesso\n",
    "from sklearn import linear_model\n",
    "clf = linear_model.Lasso(alpha = 0.003, max_iter=70000)\n",
    "clf.fit(X_train, y_train)\n",
    "y_plin = clf.predict(X_test)\n",
    "pl.plot (y_test, y_plin, \"bo\", label='lin model')\n",
    "pl.ylim((-40,700))\n",
    "pl.xlim((-5, 700))\n",
    "pl.xlabel(\"EaboveHull\")\n",
    "pl.ylabel(\"Predicted\")\n"
   ]
  },
  {
   "cell_type": "code",
   "execution_count": 37,
   "metadata": {
    "collapsed": false
   },
   "outputs": [
    {
     "data": {
      "text/plain": [
       "<matplotlib.text.Text at 0x1262cca90>"
      ]
     },
     "execution_count": 37,
     "metadata": {},
     "output_type": "execute_result"
    },
    {
     "data": {
      "image/png": "[encoded data removed]",
      "text/plain": [
       "<matplotlib.figure.Figure at 0x125f23ef0>"
      ]
     },
     "metadata": {},
     "output_type": "display_data"
    }
   ],
   "source": [
    "from sklearn.kernel_ridge import KernelRidge\n",
    "clf = KernelRidge(alpha = 0.3, kernel=\"rbf\")\n",
    "clf.fit(X_train, y_train)\n",
    "y_plin = clf.predict(X_test)\n",
    "pl.plot (y_test, y_plin, \"bo\", label='lin model')\n",
    "pl.ylim((-40,700))\n",
    "pl.xlim((-5, 700))\n",
    "pl.xlabel(\"EaboveHull\")\n",
    "pl.ylabel(\"Predicted\")"
   ]
  },
  {
   "cell_type": "code",
   "execution_count": 38,
   "metadata": {
    "collapsed": false
   },
   "outputs": [
    {
     "data": {
      "text/plain": [
       "<matplotlib.text.Text at 0x1262bf7b8>"
      ]
     },
     "execution_count": 38,
     "metadata": {},
     "output_type": "execute_result"
    },
    {
     "data": {
      "image/png": "[encoded data removed]",
      "text/plain": [
       "<matplotlib.figure.Figure at 0x1233494e0>"
      ]
     },
     "metadata": {},
     "output_type": "display_data"
    }
   ],
   "source": [
    "y_plin = svr_lin.predict(X_train)\n",
    "pl.plot (y_train, y_plin, \"bo\", label='lin model')\n",
    "pl.ylim((-40,700))\n",
    "pl.xlim((-5, 700))\n",
    "pl.xlabel(\"EaboveHull\")\n",
    "pl.ylabel(\"Predicted\")"
   ]
  },
  {
   "cell_type": "code",
   "execution_count": 10,
   "metadata": {
    "collapsed": false,
    "scrolled": true
   },
   "outputs": [
    {
     "data": {
      "text/plain": [
       "<matplotlib.text.Text at 0x122063b70>"
      ]
     },
     "execution_count": 10,
     "metadata": {},
     "output_type": "execute_result"
    },
    {
     "data": {
      "image/png": "[encoded data removed]",
      "text/plain": [
       "<matplotlib.figure.Figure at 0x12203ef60>"
      ]
     },
     "metadata": {},
     "output_type": "display_data"
    }
   ],
   "source": [
    "y_plin = svr_lin.predict(X_test)\n",
    "pl.plot (y_test, y_plin, \"bo\", label='lin model')\n",
    "pl.ylim((-40,700))\n",
    "pl.xlim((-5, 700))\n",
    "pl.xlabel(\"EaboveHull\")\n",
    "pl.ylabel(\"Predicted\")"
   ]
  },
  {
   "cell_type": "code",
   "execution_count": 42,
   "metadata": {
    "collapsed": false
   },
   "outputs": [
    {
     "data": {
      "text/plain": [
       "<matplotlib.text.Text at 0x126a8fe10>"
      ]
     },
     "execution_count": 42,
     "metadata": {},
     "output_type": "execute_result"
    },
    {
     "data": {
      "image/png": "[encoded data removed]",
      "text/plain": [
       "<matplotlib.figure.Figure at 0x123106f60>"
      ]
     },
     "metadata": {},
     "output_type": "display_data"
    }
   ],
   "source": [
    "from sklearn.neural_network import MLPRegressor\n",
    "\n",
    "clf = MLPRegressor(activation='relu', solver='adam', alpha=1e-1, hidden_layer_sizes=(20,8), max_iter=700)\n",
    "clf.fit(X_train, y_train)\n",
    "y_plin = clf.predict(X_test)\n",
    "pl.plot (y_test, y_plin, \"bo\", label='lin model')\n",
    "pl.ylim((-40,700))\n",
    "pl.xlim((-5, 700))\n",
    "pl.xlabel(\"EaboveHull\")\n",
    "pl.ylabel(\"Predicted\")"
   ]
  },
  {
   "cell_type": "code",
   "execution_count": 44,
   "metadata": {
    "collapsed": false
   },
   "outputs": [
    {
     "data": {
      "text/plain": [
       "<matplotlib.text.Text at 0x126b82780>"
      ]
     },
     "execution_count": 44,
     "metadata": {},
     "output_type": "execute_result"
    },
    {
     "data": {
      "image/png": "[encoded data removed]",
      "text/plain": [
       "<matplotlib.figure.Figure at 0x121ec7320>"
      ]
     },
     "metadata": {},
     "output_type": "display_data"
    }
   ],
   "source": [
    "from sklearn.neural_network import MLPRegressor\n",
    "\n",
    "clf = MLPRegressor(activation='relu', solver='adam', alpha=1e-1, hidden_layer_sizes=(35,8), max_iter=700)\n",
    "clf.fit(X_train, y_train)\n",
    "y_plin = clf.predict(X_test)\n",
    "pl.plot (y_test, y_plin, \"bo\", label='lin model')\n",
    "pl.ylim((-40,700))\n",
    "pl.xlim((-5, 700))\n",
    "pl.xlabel(\"EaboveHull\")\n",
    "pl.ylabel(\"Predicted\")"
   ]
  },
  {
   "cell_type": "code",
   "execution_count": 41,
   "metadata": {
    "collapsed": false
   },
   "outputs": [
    {
     "data": {
      "text/plain": [
       "<matplotlib.text.Text at 0x1268b63c8>"
      ]
     },
     "execution_count": 41,
     "metadata": {},
     "output_type": "execute_result"
    },
    {
     "data": {
      "image/png": "[encoded data removed]",
      "text/plain": [
       "<matplotlib.figure.Figure at 0x1259e4dd8>"
      ]
     },
     "metadata": {},
     "output_type": "display_data"
    }
   ],
   "source": [
    "y_plin = clf.predict(X_train)\n",
    "pl.plot (y_train, y_plin, \"bo\", label='lin model')\n",
    "pl.ylim((-40,700))\n",
    "pl.xlim((-5, 700))\n",
    "pl.xlabel(\"EaboveHull\")\n",
    "pl.ylabel(\"Predicted\")"
   ]
  },
  {
   "cell_type": "code",
   "execution_count": 66,
   "metadata": {
    "collapsed": false
   },
   "outputs": [
    {
     "data": {
      "text/plain": [
       "<matplotlib.text.Text at 0x1084a45f8>"
      ]
     },
     "execution_count": 66,
     "metadata": {},
     "output_type": "execute_result"
    },
    {
     "data": {
      "image/png": "[encoded data removed]",
      "text/plain": [
       "<matplotlib.figure.Figure at 0x112c5ca90>"
      ]
     },
     "metadata": {},
     "output_type": "display_data"
    }
   ],
   "source": [
    "pl.plot (y_test, y_lin, \"ro\", label='lin model')\n",
    "pl.ylim((-40,700))\n",
    "pl.xlim((-5, 700))\n",
    "pl.xlabel(\"EaboveHull\")\n",
    "pl.ylabel(\"Predicted\")"
   ]
  },
  {
   "cell_type": "code",
   "execution_count": 57,
   "metadata": {
    "collapsed": false
   },
   "outputs": [
    {
     "data": {
      "text/plain": [
       "(2040, 26)"
      ]
     },
     "execution_count": 57,
     "metadata": {},
     "output_type": "execute_result"
    }
   ],
   "source": [
    "X_features.shape"
   ]
  },
  {
   "cell_type": "code",
   "execution_count": 36,
   "metadata": {
    "collapsed": false
   },
   "outputs": [
    {
     "data": {
      "text/plain": [
       "array([[ -9.73164727e-17,   5.10702591e-15,  -7.85830214e-17, ...,\n",
       "         -3.40753471e-14,  -6.71324131e-14,  -6.74778552e-17],\n",
       "       [ -1.32986006e-05,   1.51976925e-04,  -2.97422299e-05, ...,\n",
       "         -4.08857667e-03,  -7.14394354e-03,  -2.17703929e-06],\n",
       "       [  6.20529886e-06,   1.15431117e-03,   2.05187209e-05, ...,\n",
       "          4.29259940e-03,   6.79651960e-03,  -7.94320204e-06]])"
      ]
     },
     "execution_count": 36,
     "metadata": {},
     "output_type": "execute_result"
    }
   ],
   "source": [
    "pca.components_"
   ]
  },
  {
   "cell_type": "code",
   "execution_count": 37,
   "metadata": {
    "collapsed": false
   },
   "outputs": [
    {
     "name": "stdout",
     "output_type": "stream",
     "text": [
      "Automatically created module for IPython interactive environment\n",
      "explained variance ratio (first two components): [ 0.92461621  0.05301557]\n"
     ]
    }
   ],
   "source": [
    "print(__doc__)\n",
    "\n",
    "import pylab as plt\n",
    "\n",
    "from sklearn import datasets\n",
    "from sklearn.decomposition import PCA\n",
    "from sklearn.discriminant_analysis import LinearDiscriminantAnalysis\n",
    "\n",
    "iris = datasets.load_iris()\n",
    "\n",
    "X = iris.data\n",
    "y = iris.target\n",
    "target_names = iris.target_names\n",
    "\n",
    "pca = PCA(n_components=2)\n",
    "X_r = pca.fit(X).transform(X)\n",
    "\n",
    "lda = LinearDiscriminantAnalysis(n_components=2)\n",
    "X_r2 = lda.fit(X, y).transform(X)\n",
    "\n",
    "# Percentage of variance explained for each components\n",
    "print('explained variance ratio (first two components): %s'\n",
    "      % str(pca.explained_variance_ratio_))\n"
   ]
  },
  {
   "cell_type": "code",
   "execution_count": 45,
   "metadata": {
    "collapsed": false
   },
   "outputs": [
    {
     "data": {
      "text/plain": [
       "2.8271359726790251"
      ]
     },
     "execution_count": 45,
     "metadata": {},
     "output_type": "execute_result"
    }
   ],
   "source": [
    "np.dot(pca.components_[0],X[0])"
   ]
  },
  {
   "cell_type": "code",
   "execution_count": 25,
   "metadata": {
    "collapsed": true
   },
   "outputs": [],
   "source": [
    "import numpy as np\n",
    "from sklearn.cross_validation import train_test_split\n",
    "from sklearn.svm import SVR\n",
    "import pylab as pl\n",
    "\n",
    "X_train, X_test, y_train, y_test = train_test_split(X_features, y, random_state=1)"
   ]
  },
  {
   "cell_type": "code",
   "execution_count": 39,
   "metadata": {
    "collapsed": false
   },
   "outputs": [
    {
     "data": {
      "text/plain": [
       "<matplotlib.text.Text at 0x1266937b8>"
      ]
     },
     "execution_count": 39,
     "metadata": {},
     "output_type": "execute_result"
    },
    {
     "data": {
      "image/png": "[encoded data removed]",
      "text/plain": [
       "<matplotlib.figure.Figure at 0x1259e47f0>"
      ]
     },
     "metadata": {},
     "output_type": "display_data"
    }
   ],
   "source": [
    "\n",
    "\n",
    "# import model\n",
    "from sklearn.linear_model import LinearRegression\n",
    "\n",
    "# instantiate\n",
    "linreg = LinearRegression()\n",
    "\n",
    "# fit the model to the training data (learn the coefficients)\n",
    "linreg.fit(X_train, y_train)\n",
    "\n",
    "y_lin = linreg.predict(X_test)\n",
    "\n",
    "pl.hold('on')\n",
    "pl.plot (y_test, y_lin, \"ro\", label='lin model')\n",
    "#pl.plot (y_test, y_pred, \"ko\", label='poly model')\n",
    "pl.plot (y_train, linreg.predict(X_train), \"bo\", label='train model')\n",
    "\n",
    "pl.ylim((-40,500))\n",
    "pl.xlim((-5, 500))\n",
    "pl.xlabel(\"EaboveHull\")\n",
    "pl.ylabel(\"Predicted\")\n",
    "\n"
   ]
  },
  {
   "cell_type": "code",
   "execution_count": null,
   "metadata": {
    "collapsed": false
   },
   "outputs": [],
   "source": [
    "svr_poly = SVR(kernel='poly', C=1e3, degree=2)\n",
    "y_mlin = svr_poly.fit(X_train, y_train)\n",
    "y_plin = svr_lin.predict(X_test)\n",
    "pl.plot (y_test, y_plin, \"bo\", label='poly model')\n",
    "pl.ylim((-40,700))\n",
    "pl.xlim((-5, 700))\n",
    "pl.xlabel(\"EaboveHull\")\n",
    "pl.ylabel(\"Predicted\")"
   ]
  },
  {
   "cell_type": "code",
   "execution_count": 32,
   "metadata": {
    "collapsed": false
   },
   "outputs": [
    {
     "data": {
      "text/plain": [
       "<matplotlib.text.Text at 0x113a80f60>"
      ]
     },
     "execution_count": 32,
     "metadata": {},
     "output_type": "execute_result"
    },
    {
     "data": {
      "image/png": "[encoded data removed]",
      "text/plain": [
       "<matplotlib.figure.Figure at 0x11644e1d0>"
      ]
     },
     "metadata": {},
     "output_type": "display_data"
    }
   ],
   "source": [
    "y_plin = svr_lin.predict(X_train)\n",
    "pl.plot (y_train, y_plin, \"bo\", label='lin model')\n",
    "pl.ylim((-40,700))\n",
    "pl.xlim((-5, 700))\n",
    "pl.xlabel(\"EaboveHull\")\n",
    "pl.ylabel(\"Predicted\")"
   ]
  },
  {
   "cell_type": "code",
   "execution_count": null,
   "metadata": {
    "collapsed": false
   },
   "outputs": [],
   "source": [
    "import numpy as np\n",
    "from sklearn.cross_validation import train_test_split\n",
    "from sklearn.svm import SVR\n",
    "import pylab as pl\n",
    "\n",
    "X_train, X_test, y_train, y_test = train_test_split(X_features, y, random_state=1)\n",
    "\n",
    "##svr_rbf = SVR(kernel='rbf', C=1e3, gamma=0.1)\n",
    "svr_lin = SVR(kernel='linear', C=1e3)\n",
    "##svr_poly = SVR(kernel='poly', C=1e3, degree=2)\n",
    "##y_rbf = svr_rbf.fit(X_train, y_train).predict(X_test)\n",
    "y_lin = svr_lin.fit(X_train, y_train).predict(X_test)\n",
    "##y_poly = svr_poly.fit(X, y).predict(X)\n",
    "\n",
    "\n",
    "##pl.hold('on')\n",
    "#pl.plot (y_test, y_pred, \"bo\", label='RBF model')\n",
    "pl.plot (y_test, y_lin, \"ro\", label='lin model')\n",
    "#pl.plot (y_test, y_pred, \"ko\", label='poly model')\n",
    "\n",
    "pl.ylim((-40,1000))\n",
    "pl.xlim((-5, 1000))\n",
    "pl.xlabel(\"EaboveHull\")\n",
    "pl.ylabel(\"Predicted\")\n",
    "\n",
    "#pl.legend()\n"
   ]
  },
  {
   "cell_type": "code",
   "execution_count": 133,
   "metadata": {
    "collapsed": false
   },
   "outputs": [
    {
     "data": {
      "text/plain": [
       "array([  1.00000000e+00,   1.24201536e-20,   6.90454880e-21])"
      ]
     },
     "execution_count": 133,
     "metadata": {},
     "output_type": "execute_result"
    }
   ],
   "source": [
    "pca.explained_variance_ratio_"
   ]
  },
  {
   "cell_type": "code",
   "execution_count": 135,
   "metadata": {
    "collapsed": false
   },
   "outputs": [
    {
     "name": "stderr",
     "output_type": "stream",
     "text": [
      "/Users/liwei/anaconda3/lib/python3.5/site-packages/sklearn/feature_selection/univariate_selection.py:113: UserWarning: Features [  1   2   3   4  21  24  62  89 100 103 106 108 109 110 117 118 123 125\n",
      " 143 146 183 223 226 263 304 307 345 386 389 427 468 471 509 549 552 586\n",
      " 589 592 626 629 632] are constant.\n",
      "  UserWarning)\n"
     ]
    }
   ],
   "source": [
    "selection = SelectKBest(k=10)\n",
    "combined_features = FeatureUnion([(\"pca\", pca), (\"univ_select\", selection)])\n",
    "X_features = combined_features.fit(X, y).transform(X)"
   ]
  },
  {
   "cell_type": "code",
   "execution_count": 147,
   "metadata": {
    "collapsed": false
   },
   "outputs": [],
   "source": [
    "from sklearn.cross_validation import train_test_split\n",
    "X_train, X_test, y_train, y_test = train_test_split(X_features, y, random_state=1)"
   ]
  },
  {
   "cell_type": "code",
   "execution_count": 148,
   "metadata": {
    "collapsed": false
   },
   "outputs": [
    {
     "ename": "ValueError",
     "evalue": "Unknown label type: 465.0       0.000000\n1955.0    123.035360\n508.0      33.436112\n1420.0      0.000000\n1729.0    141.535230\n1442.0     45.937188\n1549.0      0.000000\n234.0     110.674570\n1579.0    113.718260\n1082.0    112.287386\n2008.0    178.519868\n1959.0    139.928045\n1978.0     53.128245\n556.0     131.304680\n586.0       0.000000\n463.0       0.000000\n951.0      66.761333\n645.0      39.831207\n1370.0     55.088616\n808.0      52.168670\n284.0      75.878245\n447.0       0.000000\n805.0       0.000000\n1612.0    142.333954\n65.0       71.546616\n59.0      202.290968\n256.0     198.061859\n1552.0    100.949225\n1768.0    262.896301\n1490.0     25.115635\n             ...    \n399.0      33.138455\n1950.0    109.381016\n669.0      35.158395\n1515.0      0.000000\n253.0     274.349274\n908.0      91.344997\n469.0       0.000000\n915.0     141.373726\n358.0      74.772053\n1279.0     28.663759\n1301.0      0.000000\n1203.0     97.255696\n1306.0     29.915707\n1415.0    110.664774\n509.0       7.745588\n750.0     100.440195\n1608.0     83.917196\n1997.0    238.535058\n130.0      54.949790\n145.0      77.045021\n961.0       0.000000\n848.0      51.309016\n1670.0    113.869162\n716.0      62.494050\n906.0       0.000000\n1792.0    201.321423\n1097.0     91.266975\n1933.0     68.400903\n236.0      78.671230\n1062.0    185.051275\nName: Eab, dtype: float64",
     "output_type": "error",
     "traceback": [
      "\u001b[0;31m---------------------------------------------------------------------------\u001b[0m",
      "\u001b[0;31mValueError\u001b[0m                                Traceback (most recent call last)",
      "\u001b[0;32m<ipython-input-148-ecf77242f501>\u001b[0m in \u001b[0;36m<module>\u001b[0;34m()\u001b[0m\n\u001b[0;32m----> 1\u001b[0;31m \u001b[0msvm\u001b[0m\u001b[0;34m.\u001b[0m\u001b[0mfit\u001b[0m\u001b[0;34m(\u001b[0m\u001b[0mX_train\u001b[0m\u001b[0;34m,\u001b[0m \u001b[0my_train\u001b[0m\u001b[0;34m)\u001b[0m\u001b[0;34m\u001b[0m\u001b[0m\n\u001b[0m\u001b[1;32m      2\u001b[0m \u001b[0;34m\u001b[0m\u001b[0m\n\u001b[1;32m      3\u001b[0m \u001b[0mprint\u001b[0m\u001b[0;34m(\u001b[0m\u001b[0mlinreg\u001b[0m\u001b[0;34m.\u001b[0m\u001b[0mintercept_\u001b[0m\u001b[0;34m)\u001b[0m\u001b[0;34m\u001b[0m\u001b[0m\n\u001b[1;32m      4\u001b[0m \u001b[0mprint\u001b[0m\u001b[0;34m(\u001b[0m\u001b[0mlinreg\u001b[0m\u001b[0;34m.\u001b[0m\u001b[0mcoef_\u001b[0m\u001b[0;34m)\u001b[0m\u001b[0;34m\u001b[0m\u001b[0m\n\u001b[1;32m      5\u001b[0m \u001b[0my_pred\u001b[0m \u001b[0;34m=\u001b[0m \u001b[0mlinreg\u001b[0m\u001b[0;34m.\u001b[0m\u001b[0mpredict\u001b[0m\u001b[0;34m(\u001b[0m\u001b[0mX_test\u001b[0m\u001b[0;34m)\u001b[0m\u001b[0;34m\u001b[0m\u001b[0m\n",
      "\u001b[0;32m/Users/liwei/anaconda3/lib/python3.5/site-packages/sklearn/svm/base.py\u001b[0m in \u001b[0;36mfit\u001b[0;34m(self, X, y, sample_weight)\u001b[0m\n\u001b[1;32m    149\u001b[0m \u001b[0;34m\u001b[0m\u001b[0m\n\u001b[1;32m    150\u001b[0m         \u001b[0mX\u001b[0m \u001b[0;34m=\u001b[0m \u001b[0mcheck_array\u001b[0m\u001b[0;34m(\u001b[0m\u001b[0mX\u001b[0m\u001b[0;34m,\u001b[0m \u001b[0maccept_sparse\u001b[0m\u001b[0;34m=\u001b[0m\u001b[0;34m'csr'\u001b[0m\u001b[0;34m,\u001b[0m \u001b[0mdtype\u001b[0m\u001b[0;34m=\u001b[0m\u001b[0mnp\u001b[0m\u001b[0;34m.\u001b[0m\u001b[0mfloat64\u001b[0m\u001b[0;34m,\u001b[0m \u001b[0morder\u001b[0m\u001b[0;34m=\u001b[0m\u001b[0;34m'C'\u001b[0m\u001b[0;34m)\u001b[0m\u001b[0;34m\u001b[0m\u001b[0m\n\u001b[0;32m--> 151\u001b[0;31m         \u001b[0my\u001b[0m \u001b[0;34m=\u001b[0m \u001b[0mself\u001b[0m\u001b[0;34m.\u001b[0m\u001b[0m_validate_targets\u001b[0m\u001b[0;34m(\u001b[0m\u001b[0my\u001b[0m\u001b[0;34m)\u001b[0m\u001b[0;34m\u001b[0m\u001b[0m\n\u001b[0m\u001b[1;32m    152\u001b[0m \u001b[0;34m\u001b[0m\u001b[0m\n\u001b[1;32m    153\u001b[0m         sample_weight = np.asarray([]\n",
      "\u001b[0;32m/Users/liwei/anaconda3/lib/python3.5/site-packages/sklearn/svm/base.py\u001b[0m in \u001b[0;36m_validate_targets\u001b[0;34m(self, y)\u001b[0m\n\u001b[1;32m    513\u001b[0m     \u001b[0;32mdef\u001b[0m \u001b[0m_validate_targets\u001b[0m\u001b[0;34m(\u001b[0m\u001b[0mself\u001b[0m\u001b[0;34m,\u001b[0m \u001b[0my\u001b[0m\u001b[0;34m)\u001b[0m\u001b[0;34m:\u001b[0m\u001b[0;34m\u001b[0m\u001b[0m\n\u001b[1;32m    514\u001b[0m         \u001b[0my_\u001b[0m \u001b[0;34m=\u001b[0m \u001b[0mcolumn_or_1d\u001b[0m\u001b[0;34m(\u001b[0m\u001b[0my\u001b[0m\u001b[0;34m,\u001b[0m \u001b[0mwarn\u001b[0m\u001b[0;34m=\u001b[0m\u001b[0;32mTrue\u001b[0m\u001b[0;34m)\u001b[0m\u001b[0;34m\u001b[0m\u001b[0m\n\u001b[0;32m--> 515\u001b[0;31m         \u001b[0mcheck_classification_targets\u001b[0m\u001b[0;34m(\u001b[0m\u001b[0my\u001b[0m\u001b[0;34m)\u001b[0m\u001b[0;34m\u001b[0m\u001b[0m\n\u001b[0m\u001b[1;32m    516\u001b[0m         \u001b[0mcls\u001b[0m\u001b[0;34m,\u001b[0m \u001b[0my\u001b[0m \u001b[0;34m=\u001b[0m \u001b[0mnp\u001b[0m\u001b[0;34m.\u001b[0m\u001b[0munique\u001b[0m\u001b[0;34m(\u001b[0m\u001b[0my_\u001b[0m\u001b[0;34m,\u001b[0m \u001b[0mreturn_inverse\u001b[0m\u001b[0;34m=\u001b[0m\u001b[0;32mTrue\u001b[0m\u001b[0;34m)\u001b[0m\u001b[0;34m\u001b[0m\u001b[0m\n\u001b[1;32m    517\u001b[0m         \u001b[0mself\u001b[0m\u001b[0;34m.\u001b[0m\u001b[0mclass_weight_\u001b[0m \u001b[0;34m=\u001b[0m \u001b[0mcompute_class_weight\u001b[0m\u001b[0;34m(\u001b[0m\u001b[0mself\u001b[0m\u001b[0;34m.\u001b[0m\u001b[0mclass_weight\u001b[0m\u001b[0;34m,\u001b[0m \u001b[0mcls\u001b[0m\u001b[0;34m,\u001b[0m \u001b[0my_\u001b[0m\u001b[0;34m)\u001b[0m\u001b[0;34m\u001b[0m\u001b[0m\n",
      "\u001b[0;32m/Users/liwei/anaconda3/lib/python3.5/site-packages/sklearn/utils/multiclass.py\u001b[0m in \u001b[0;36mcheck_classification_targets\u001b[0;34m(y)\u001b[0m\n\u001b[1;32m    171\u001b[0m     if y_type not in ['binary', 'multiclass', 'multiclass-multioutput', \n\u001b[1;32m    172\u001b[0m             'multilabel-indicator', 'multilabel-sequences']:\n\u001b[0;32m--> 173\u001b[0;31m         \u001b[0;32mraise\u001b[0m \u001b[0mValueError\u001b[0m\u001b[0;34m(\u001b[0m\u001b[0;34m\"Unknown label type: %r\"\u001b[0m \u001b[0;34m%\u001b[0m \u001b[0my\u001b[0m\u001b[0;34m)\u001b[0m\u001b[0;34m\u001b[0m\u001b[0m\n\u001b[0m\u001b[1;32m    174\u001b[0m \u001b[0;34m\u001b[0m\u001b[0m\n\u001b[1;32m    175\u001b[0m \u001b[0;34m\u001b[0m\u001b[0m\n",
      "\u001b[0;31mValueError\u001b[0m: Unknown label type: 465.0       0.000000\n1955.0    123.035360\n508.0      33.436112\n1420.0      0.000000\n1729.0    141.535230\n1442.0     45.937188\n1549.0      0.000000\n234.0     110.674570\n1579.0    113.718260\n1082.0    112.287386\n2008.0    178.519868\n1959.0    139.928045\n1978.0     53.128245\n556.0     131.304680\n586.0       0.000000\n463.0       0.000000\n951.0      66.761333\n645.0      39.831207\n1370.0     55.088616\n808.0      52.168670\n284.0      75.878245\n447.0       0.000000\n805.0       0.000000\n1612.0    142.333954\n65.0       71.546616\n59.0      202.290968\n256.0     198.061859\n1552.0    100.949225\n1768.0    262.896301\n1490.0     25.115635\n             ...    \n399.0      33.138455\n1950.0    109.381016\n669.0      35.158395\n1515.0      0.000000\n253.0     274.349274\n908.0      91.344997\n469.0       0.000000\n915.0     141.373726\n358.0      74.772053\n1279.0     28.663759\n1301.0      0.000000\n1203.0     97.255696\n1306.0     29.915707\n1415.0    110.664774\n509.0       7.745588\n750.0     100.440195\n1608.0     83.917196\n1997.0    238.535058\n130.0      54.949790\n145.0      77.045021\n961.0       0.000000\n848.0      51.309016\n1670.0    113.869162\n716.0      62.494050\n906.0       0.000000\n1792.0    201.321423\n1097.0     91.266975\n1933.0     68.400903\n236.0      78.671230\n1062.0    185.051275\nName: Eab, dtype: float64"
     ]
    }
   ],
   "source": [
    "svm.fit(X_train, y_train)\n",
    "\n",
    "print(linreg.intercept_)\n",
    "print(linreg.coef_)\n",
    "y_pred = linreg.predict(X_test)\n",
    "import pylab as pl\n",
    "pl.plot (y_test, y_pred, \"bo\")\n",
    "pl.ylim((-40,1000))\n",
    "pl.xlim((-5, 1000))\n",
    "pl.xlabel(\"EaboveHull\")\n",
    "pl.ylabel(\"Predicted\")"
   ]
  },
  {
   "cell_type": "code",
   "execution_count": 114,
   "metadata": {
    "collapsed": false
   },
   "outputs": [
    {
     "data": {
      "text/plain": [
       "SVC(C=1.0, cache_size=200, class_weight=None, coef0=0.0,\n",
       "  decision_function_shape=None, degree=3, gamma='auto', kernel='linear',\n",
       "  max_iter=-1, probability=False, random_state=None, shrinking=True,\n",
       "  tol=0.001, verbose=False)"
      ]
     },
     "execution_count": 114,
     "metadata": {},
     "output_type": "execute_result"
    }
   ],
   "source": [
    "from sklearn.pipeline import Pipeline, FeatureUnion\n",
    "\n",
    "from sklearn.svm import SVC\n",
    "from sklearn.datasets import load_iris\n",
    "from sklearn.decomposition import PCA\n",
    "from sklearn.feature_selection import SelectKBest\n",
    "\n",
    "iris = load_iris()\n",
    "\n",
    "X, y = iris.data, iris.target\n",
    "\n",
    "# This dataset is way too high-dimensional. Better do PCA:\n",
    "pca = PCA(n_components=2)\n",
    "\n",
    "# Maybe some original features where good, too?\n",
    "selection = SelectKBest(k=1)\n",
    "\n",
    "# Build estimator from PCA and Univariate selection:\n",
    "\n",
    "combined_features = FeatureUnion([(\"pca\", pca), (\"univ_select\", selection)])\n",
    "\n",
    "# Use combined features to transform dataset:\n",
    "X_features = combined_features.fit(X, y).transform(X)\n",
    "\n",
    "svm = SVC(kernel=\"linear\")\n",
    "\n",
    "svm.fit(X,y)"
   ]
  },
  {
   "cell_type": "code",
   "execution_count": 126,
   "metadata": {
    "collapsed": false
   },
   "outputs": [],
   "source": [
    "pca = PCA(n_components=0.99)"
   ]
  },
  {
   "cell_type": "code",
   "execution_count": 127,
   "metadata": {
    "collapsed": false
   },
   "outputs": [
    {
     "data": {
      "text/plain": [
       "array([ 0.92461621,  0.05301557,  0.01718514])"
      ]
     },
     "execution_count": 127,
     "metadata": {},
     "output_type": "execute_result"
    }
   ],
   "source": [
    "X_pca = pca.fit_transform(X)\n",
    "pca.explained_variance_ratio_"
   ]
  },
  {
   "cell_type": "code",
   "execution_count": 41,
   "metadata": {
    "collapsed": false
   },
   "outputs": [],
   "source": [
    "from sklearn.cross_validation import train_test_split\n",
    "X_train, X_test, y_train, y_test = train_test_split(X, y, random_state=1)"
   ]
  },
  {
   "cell_type": "code",
   "execution_count": 42,
   "metadata": {
    "collapsed": false
   },
   "outputs": [
    {
     "name": "stdout",
     "output_type": "stream",
     "text": [
      "(1530, 1222)\n",
      "(1530,)\n",
      "(510, 1222)\n",
      "(510,)\n"
     ]
    }
   ],
   "source": [
    "# default split is 75% for training and 25% for testing\n",
    "print(X_train.shape)\n",
    "print(y_train.shape)\n",
    "print(X_test.shape)\n",
    "print(y_test.shape)"
   ]
  },
  {
   "cell_type": "code",
   "execution_count": 63,
   "metadata": {
    "collapsed": false
   },
   "outputs": [
    {
     "name": "stdout",
     "output_type": "stream",
     "text": [
      "28846.3437097\n",
      "[ -9.03478269  54.20814933 -56.67390753 ..., -24.71284165  -3.18450351\n",
      "  -7.57379285]\n"
     ]
    },
    {
     "data": {
      "text/plain": [
       "<matplotlib.text.Text at 0x10ff00fd0>"
      ]
     },
     "execution_count": 63,
     "metadata": {},
     "output_type": "execute_result"
    },
    {
     "data": {
      "image/png": "[encoded data removed]",
      "text/plain": [
       "<matplotlib.figure.Figure at 0x117338320>"
      ]
     },
     "metadata": {},
     "output_type": "display_data"
    }
   ],
   "source": [
    "# import model\n",
    "from sklearn.linear_model import LinearRegression\n",
    "\n",
    "# instantiate\n",
    "linreg = LinearRegression()\n",
    "\n",
    "# fit the model to the training data (learn the coefficients)\n",
    "linreg.fit(X_train, y_train)\n",
    "\n",
    "print(linreg.intercept_)\n",
    "print(linreg.coef_)\n",
    "y_pred = linreg.predict(X_test)\n",
    "import pylab as pl\n",
    "pl.plot (y_test, y_pred, \"bo\")\n",
    "pl.ylim((-40,1000))\n",
    "pl.xlim((-5, 1000))\n",
    "pl.xlabel(\"EaboveHull\")\n",
    "pl.ylabel(\"Predicted\")"
   ]
  },
  {
   "cell_type": "code",
   "execution_count": 59,
   "metadata": {
    "collapsed": false
   },
   "outputs": [],
   "source": [
    "?linreg.score"
   ]
  },
  {
   "cell_type": "code",
   "execution_count": 62,
   "metadata": {
    "collapsed": false
   },
   "outputs": [
    {
     "data": {
      "text/plain": [
       "927.93894501440536"
      ]
     },
     "execution_count": 62,
     "metadata": {},
     "output_type": "execute_result"
    }
   ],
   "source": [
    "np.sqrt(np.mean((y_test-y_pred)**2))"
   ]
  },
  {
   "cell_type": "code",
   "execution_count": 65,
   "metadata": {
    "collapsed": false
   },
   "outputs": [
    {
     "data": {
      "text/plain": [
       "<matplotlib.text.Text at 0x10fef2f98>"
      ]
     },
     "execution_count": 65,
     "metadata": {},
     "output_type": "execute_result"
    },
    {
     "data": {
      "image/png": "[encoded data removed]",
      "text/plain": [
       "<matplotlib.figure.Figure at 0x1171ee860>"
      ]
     },
     "metadata": {},
     "output_type": "display_data"
    }
   ],
   "source": [
    "y_tot = linreg.predict(X_train)\n",
    "import pylab as pl\n",
    "pl.plot (y_train, y_tot, \"bo\")\n",
    "pl.ylim((-40,1000))\n",
    "pl.xlim((-5, 1000))\n",
    "pl.xlabel(\"EaboveHull\")\n",
    "pl.ylabel(\"Predicted\")"
   ]
  },
  {
   "cell_type": "code",
   "execution_count": 61,
   "metadata": {
    "collapsed": false
   },
   "outputs": [
    {
     "data": {
      "text/plain": [
       "1684.0     18.463849\n",
       "1007.0    -21.210230\n",
       "1009.0    -52.598981\n",
       "1922.0      0.570853\n",
       "895.0       0.024078\n",
       "1898.0     59.714030\n",
       "407.0       8.963895\n",
       "528.0     -35.992932\n",
       "373.0      32.447905\n",
       "1397.0    -19.581360\n",
       "1668.0     24.191394\n",
       "390.0     100.602051\n",
       "1710.0     81.971652\n",
       "1824.0     -6.605609\n",
       "772.0     -10.004016\n",
       "1235.0     -7.241327\n",
       "1981.0    -12.712780\n",
       "824.0      13.166682\n",
       "1737.0    -10.445607\n",
       "919.0     600.754570\n",
       "1323.0     11.891490\n",
       "1900.0     88.550231\n",
       "1506.0    -24.376222\n",
       "57.0      -11.820463\n",
       "397.0     -51.327252\n",
       "644.0     103.661002\n",
       "1473.0     22.951149\n",
       "846.0      25.526795\n",
       "841.0     -10.936130\n",
       "1979.0    -40.884071\n",
       "             ...    \n",
       "1104.0    -39.176118\n",
       "765.0      -7.858357\n",
       "336.0      -0.793412\n",
       "354.0      -2.302705\n",
       "1791.0    -17.721435\n",
       "1305.0      8.280254\n",
       "614.0     -10.690478\n",
       "40.0       29.436246\n",
       "620.0      10.499226\n",
       "1984.0    -69.389396\n",
       "1625.0    -38.416224\n",
       "967.0       8.101017\n",
       "1012.0     -8.661006\n",
       "81.0      -18.838751\n",
       "435.0       9.615351\n",
       "1142.0     34.404074\n",
       "662.0      13.600657\n",
       "102.0      32.244780\n",
       "642.0      48.648527\n",
       "1197.0      7.911863\n",
       "1253.0      0.486681\n",
       "229.0     186.337725\n",
       "2033.0    731.552427\n",
       "2031.0   -653.351240\n",
       "1808.0     14.164894\n",
       "954.0      21.470633\n",
       "1374.0     24.619353\n",
       "1230.0     24.044278\n",
       "1492.0     61.717342\n",
       "1463.0    -68.198582\n",
       "Name: Eabo, dtype: float64"
      ]
     },
     "execution_count": 61,
     "metadata": {},
     "output_type": "execute_result"
    }
   ],
   "source": [
    "y_test-y_pred"
   ]
  },
  {
   "cell_type": "code",
   "execution_count": 54,
   "metadata": {
    "collapsed": false
   },
   "outputs": [
    {
     "name": "stdout",
     "output_type": "stream",
     "text": [
      "100.0\n",
      "28846.3437097\n",
      "[ -9.03478269  54.20814933 -56.67390753 ..., -24.71284165  -3.18450351\n",
      "  -7.57379285]\n"
     ]
    },
    {
     "data": {
      "text/plain": [
       "<matplotlib.text.Text at 0x1071cb7b8>"
      ]
     },
     "execution_count": 54,
     "metadata": {},
     "output_type": "execute_result"
    },
    {
     "data": {
      "image/png": "[encoded data removed]",
      "text/plain": [
       "<matplotlib.figure.Figure at 0x10d60ccf8>"
      ]
     },
     "metadata": {},
     "output_type": "display_data"
    }
   ],
   "source": [
    "from sklearn import linear_model\n",
    "clf = linear_model.Lasso(alpha = 0.1)\n",
    "clf.fit([[0, 0], [1, 1]], [0, 1])\n",
    "clf = linear_model.RidgeCV(alphas=[0.1, 1.0, 10.0, 100])\n",
    "clf.fit(X_train, y_train)\n",
    "print(clf.alpha_)\n",
    "\n",
    "print(linreg.intercept_)\n",
    "print(linreg.coef_)\n",
    "y_pred = linreg.predict(X_test)\n",
    "import pylab as pl\n",
    "pl.plot (y_test, y_pred, \"bo\")\n",
    "pl.ylim((-40,400))\n",
    "pl.xlim((-5, 400))\n",
    "pl.xlabel(\"EaboveHull\")\n",
    "pl.ylabel(\"Predicted\")"
   ]
  },
  {
   "cell_type": "code",
   "execution_count": 22,
   "metadata": {
    "collapsed": false
   },
   "outputs": [
    {
     "name": "stderr",
     "output_type": "stream",
     "text": [
      "/Users/liwei/anaconda3/lib/python3.5/site-packages/sklearn/linear_model/coordinate_descent.py:466: ConvergenceWarning: Objective did not converge. You might want to increase the number of iterations\n",
      "  ConvergenceWarning)\n"
     ]
    },
    {
     "ename": "NameError",
     "evalue": "name 'y_predbylesso' is not defined",
     "output_type": "error",
     "traceback": [
      "\u001b[0;31m---------------------------------------------------------------------------\u001b[0m",
      "\u001b[0;31mNameError\u001b[0m                                 Traceback (most recent call last)",
      "\u001b[0;32m<ipython-input-22-d2392e13cfe9>\u001b[0m in \u001b[0;36m<module>\u001b[0;34m()\u001b[0m\n\u001b[1;32m      4\u001b[0m \u001b[0mclf\u001b[0m\u001b[0;34m.\u001b[0m\u001b[0mfit\u001b[0m\u001b[0;34m(\u001b[0m\u001b[0mX_train\u001b[0m\u001b[0;34m,\u001b[0m \u001b[0my_train\u001b[0m\u001b[0;34m)\u001b[0m\u001b[0;34m\u001b[0m\u001b[0m\n\u001b[1;32m      5\u001b[0m \u001b[0my_predictbylesso\u001b[0m \u001b[0;34m=\u001b[0m \u001b[0mclf\u001b[0m\u001b[0;34m.\u001b[0m\u001b[0mpredict\u001b[0m\u001b[0;34m(\u001b[0m\u001b[0mX_test\u001b[0m\u001b[0;34m)\u001b[0m\u001b[0;34m\u001b[0m\u001b[0m\n\u001b[0;32m----> 6\u001b[0;31m \u001b[0mpl\u001b[0m\u001b[0;34m.\u001b[0m\u001b[0mplot\u001b[0m \u001b[0;34m(\u001b[0m\u001b[0my_test\u001b[0m\u001b[0;34m,\u001b[0m \u001b[0my_predbylesso\u001b[0m\u001b[0;34m,\u001b[0m \u001b[0;34m\"bo\"\u001b[0m\u001b[0;34m)\u001b[0m\u001b[0;34m\u001b[0m\u001b[0m\n\u001b[0m\u001b[1;32m      7\u001b[0m \u001b[0mpl\u001b[0m\u001b[0;34m.\u001b[0m\u001b[0mylim\u001b[0m\u001b[0;34m(\u001b[0m\u001b[0;34m(\u001b[0m\u001b[0;34m-\u001b[0m\u001b[0;36m40\u001b[0m\u001b[0;34m,\u001b[0m\u001b[0;36m400\u001b[0m\u001b[0;34m)\u001b[0m\u001b[0;34m)\u001b[0m\u001b[0;34m\u001b[0m\u001b[0m\n\u001b[1;32m      8\u001b[0m \u001b[0mpl\u001b[0m\u001b[0;34m.\u001b[0m\u001b[0mxlim\u001b[0m\u001b[0;34m(\u001b[0m\u001b[0;34m(\u001b[0m\u001b[0;34m-\u001b[0m\u001b[0;36m5\u001b[0m\u001b[0;34m,\u001b[0m \u001b[0;36m400\u001b[0m\u001b[0;34m)\u001b[0m\u001b[0;34m)\u001b[0m\u001b[0;34m\u001b[0m\u001b[0m\n",
      "\u001b[0;31mNameError\u001b[0m: name 'y_predbylesso' is not defined"
     ]
    }
   ],
   "source": [
    "### try lesso\n",
    "from sklearn import linear_model\n",
    "clf = linear_model.Lasso(alpha = 0.003)\n",
    "clf.fit(X_train, y_train)\n",
    "y_predictbylesso = clf.predict(X_test)\n",
    "pl.plot (y_test, y_predbylesso, \"bo\")\n",
    "pl.ylim((-40,400))\n",
    "pl.xlim((-5, 400))\n",
    "pl.xlabel(\"EaboveHull\")\n",
    "pl.ylabel(\"Predicted\")"
   ]
  },
  {
   "cell_type": "code",
   "execution_count": 25,
   "metadata": {
    "collapsed": false
   },
   "outputs": [
    {
     "data": {
      "text/plain": [
       "<matplotlib.text.Text at 0x117cb6c50>"
      ]
     },
     "execution_count": 25,
     "metadata": {},
     "output_type": "execute_result"
    },
    {
     "data": {
      "image/png": "[encoded data removed]",
      "text/plain": [
       "<matplotlib.figure.Figure at 0x1096b77b8>"
      ]
     },
     "metadata": {},
     "output_type": "display_data"
    }
   ],
   "source": [
    "yP = clf.predict(X_test)\n",
    "pl.plot (y_test, yP, \"bo\")\n",
    "pl.ylim((-40,400))\n",
    "pl.xlim((-5, 400))\n",
    "pl.xlabel(\"EaboveHull\")\n",
    "pl.ylabel(\"Predicted\")"
   ]
  },
  {
   "cell_type": "code",
   "execution_count": 39,
   "metadata": {
    "collapsed": false
   },
   "outputs": [
    {
     "data": {
      "text/plain": [
       "(1529, 23)"
      ]
     },
     "execution_count": 39,
     "metadata": {},
     "output_type": "execute_result"
    }
   ],
   "source": [
    "\n",
    "from sklearn.feature_selection import SelectFromModel\n",
    "\n",
    "clf = linear_model.Lasso(alpha = 300, tol=0.01)\n",
    "lso = clf.fit(X_train, y_train)\n",
    "model = SelectFromModel(lso, prefit=True)\n",
    "X_new = model.transform(X_train)\n",
    "X_new.shape"
   ]
  },
  {
   "cell_type": "code",
   "execution_count": 41,
   "metadata": {
    "collapsed": false
   },
   "outputs": [
    {
     "data": {
      "text/plain": [
       "<matplotlib.text.Text at 0x1196b2400>"
      ]
     },
     "execution_count": 41,
     "metadata": {},
     "output_type": "execute_result"
    },
    {
     "data": {
      "image/png": "[encoded data removed]",
      "text/plain": [
       "<matplotlib.figure.Figure at 0x11dc2e1d0>"
      ]
     },
     "metadata": {},
     "output_type": "display_data"
    }
   ],
   "source": [
    "yP = clf.predict(X_test)\n",
    "pl.plot (y_test, yP, \"bo\")\n",
    "pl.ylim((-40,600))\n",
    "pl.xlim((-5, 600))\n",
    "pl.xlabel(\"EaboveHull\")\n",
    "pl.ylabel(\"Predicted\")"
   ]
  },
  {
   "cell_type": "code",
   "execution_count": 7,
   "metadata": {
    "collapsed": false
   },
   "outputs": [],
   "source": [
    "import numpy as np\n",
    "from sklearn.decomposition import PCA\n",
    "pca = PCA(n_components=1)\n",
    "X_pca = pca.fit_transform(X)"
   ]
  },
  {
   "cell_type": "code",
   "execution_count": 97,
   "metadata": {
    "collapsed": false
   },
   "outputs": [
    {
     "data": {
      "text/plain": [
       "array([[ -5.16119477e+11],\n",
       "       [ -5.16119477e+11],\n",
       "       [ -5.16119477e+11],\n",
       "       ..., \n",
       "       [ -5.16119477e+11],\n",
       "       [ -5.16119477e+11],\n",
       "       [ -5.16119477e+11]])"
      ]
     },
     "execution_count": 97,
     "metadata": {},
     "output_type": "execute_result"
    }
   ],
   "source": [
    "X_pca"
   ]
  },
  {
   "cell_type": "code",
   "execution_count": 88,
   "metadata": {
    "collapsed": false
   },
   "outputs": [
    {
     "data": {
      "text/plain": [
       "array([  1.00000000e+00,   2.01233364e-20,   8.02967867e-21,\n",
       "         6.59139119e-21,   4.34049822e-21,   1.52248847e-21,\n",
       "         9.30281781e-22,   6.43115864e-22,   5.44033032e-22,\n",
       "         3.74742182e-22,   2.65306426e-22,   2.11503110e-22])"
      ]
     },
     "execution_count": 88,
     "metadata": {},
     "output_type": "execute_result"
    }
   ],
   "source": [
    "pca.explained_variance_ratio_"
   ]
  },
  {
   "cell_type": "code",
   "execution_count": 95,
   "metadata": {
    "collapsed": true
   },
   "outputs": [],
   "source": [
    "from sklearn.cross_validation import train_test_split\n",
    "X_train1, X_test1, y_train, y_test = train_test_split(X_pca, y, random_state=1)"
   ]
  },
  {
   "cell_type": "code",
   "execution_count": 96,
   "metadata": {
    "collapsed": false
   },
   "outputs": [
    {
     "name": "stdout",
     "output_type": "stream",
     "text": [
      "106.637006258\n",
      "[ -5.00304793e-13]\n"
     ]
    },
    {
     "data": {
      "text/plain": [
       "<matplotlib.text.Text at 0x108e735f8>"
      ]
     },
     "execution_count": 96,
     "metadata": {},
     "output_type": "execute_result"
    },
    {
     "data": {
      "image/png": "[encoded data removed]",
      "text/plain": [
       "<matplotlib.figure.Figure at 0x1173e2048>"
      ]
     },
     "metadata": {},
     "output_type": "display_data"
    }
   ],
   "source": [
    "# import model\n",
    "from sklearn.linear_model import LinearRegression\n",
    "\n",
    "# instantiate\n",
    "linreg = LinearRegression()\n",
    "\n",
    "# fit the model to the training data (learn the coefficients)\n",
    "linreg.fit(X_train1, y_train)\n",
    "\n",
    "print(linreg.intercept_)\n",
    "print(linreg.coef_)\n",
    "y_pred = linreg.predict(X_test1)\n",
    "import pylab as pl\n",
    "pl.plot (y_test, y_pred, \"bo\")\n",
    "pl.ylim((-40,400))\n",
    "pl.xlim((-5, 400))\n",
    "pl.xlabel(\"EaboveHull\")\n",
    "pl.ylabel(\"Predicted\")"
   ]
  },
  {
   "cell_type": "code",
   "execution_count": null,
   "metadata": {
    "collapsed": true
   },
   "outputs": [],
   "source": []
  }
 ],
 "metadata": {
  "kernelspec": {
   "display_name": "Python 3",
   "language": "python",
   "name": "python3"
  },
  "language_info": {
   "codemirror_mode": {
    "name": "ipython",
    "version": 3
   },
   "file_extension": ".py",
   "mimetype": "text/x-python",
   "name": "python",
   "nbconvert_exporter": "python",
   "pygments_lexer": "ipython3",
   "version": "3.5.2"
  }
 },
 "nbformat": 4,
 "nbformat_minor": 0
}
