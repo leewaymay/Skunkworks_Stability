{
 "cells": [
  {
   "cell_type": "code",
   "execution_count": 1,
   "metadata": {
    "collapsed": true
   },
   "outputs": [],
   "source": [
    "import numpy as np"
   ]
  },
  {
   "cell_type": "markdown",
   "metadata": {},
   "source": [
    "## Build up elementary property dictionary\n",
    "- function buildDict creates a dictionary of element name and a type of attribute\n",
    "- get a dictionary list with differnet elementary properties"
   ]
  },
  {
   "cell_type": "code",
   "execution_count": 2,
   "metadata": {
    "collapsed": true
   },
   "outputs": [],
   "source": [
    "def buildDict (attribute_index, refsheet, data_type):\n",
    "    attribute = dict()\n",
    "    if (data_type == 'd') :\n",
    "        for row_index in range(1, refsheet.nrows):\n",
    "            element_name = refsheet.cell(row_index, 0).value\n",
    "            data = refsheet.cell(row_index, attribute_index).value\n",
    "            if (data == '' or data == ' '):\n",
    "                attribute[element_name] = -1.111\n",
    "            else:\n",
    "                try:\n",
    "                    attribute[element_name] = float(data)\n",
    "                except:\n",
    "                    print (data, row_index, attribute_index)\n",
    "            \n",
    "    else:\n",
    "        for row_index in range(1, refsheet.nrows):\n",
    "            element_name = refsheet.cell(row_index, 0).value\n",
    "            attribute[element_name] = refsheet.cell(row_index, attribute_index).value           \n",
    "    return attribute"
   ]
  },
  {
   "cell_type": "markdown",
   "metadata": {},
   "source": [
    "## get continuous/discrict/binominal property seperately"
   ]
  },
  {
   "cell_type": "code",
   "execution_count": 3,
   "metadata": {
    "collapsed": false
   },
   "outputs": [],
   "source": [
    "from xlrd import open_workbook\n",
    "refbk = open_workbook('continousproperty.xlsx')\n",
    "refst = refbk.sheet_by_index(0)\n",
    "contList = []\n",
    "for attribute_index in range(1, refst.ncols):\n",
    "    contList.append(buildDict(attribute_index, refst, 'd'))"
   ]
  },
  {
   "cell_type": "code",
   "execution_count": 4,
   "metadata": {
    "collapsed": true
   },
   "outputs": [],
   "source": [
    "from xlrd import open_workbook\n",
    "refbk2 = open_workbook('discrictproperty.xlsx')\n",
    "refst2 = refbk2.sheet_by_index(0)\n",
    "discList = []\n",
    "for attribute_index in range(1, refst2.ncols):\n",
    "    discList.append(buildDict(attribute_index, refst2, 'd'))"
   ]
  },
  {
   "cell_type": "code",
   "execution_count": 5,
   "metadata": {
    "collapsed": true
   },
   "outputs": [],
   "source": [
    "from xlrd import open_workbook\n",
    "refbk3 = open_workbook('binominalproperty.xlsx')\n",
    "refst3 = refbk3.sheet_by_index(0)\n",
    "binoList = []\n",
    "for attribute_index in range(1, refst3.ncols):\n",
    "    binoList.append(buildDict(attribute_index, refst3, 'd'))"
   ]
  },
  {
   "cell_type": "markdown",
   "metadata": {},
   "source": [
    "## Get Composition infomation \n",
    "- function getComp returns a list of atoms with elementary properties at one type of site\n",
    "- function findNum parse the name of the perovskite to get the number of atoms\n",
    "- for every compound in the spreadsheet, generate a list of attribute values"
   ]
  },
  {
   "cell_type": "code",
   "execution_count": 6,
   "metadata": {
    "collapsed": true
   },
   "outputs": [],
   "source": [
    "def getComp (row_index, sheetname, col_index, compositionname, dicList):\n",
    "    sites = []\n",
    "    for index in range(3):\n",
    "        if (col_index+index >= 8): \n",
    "            break\n",
    "        if (sheetname.cell(row_index, col_index+index).value != ''):\n",
    "            name = sheetname.cell(row_index, col_index+index).value\n",
    "            num = findNum(compositionname, name)\n",
    "            properties = [name, num]\n",
    "            for attrDic in dicList:\n",
    "                properties.append(attrDic[name])\n",
    "            sites.append(properties)\n",
    "    return sites"
   ]
  },
  {
   "cell_type": "code",
   "execution_count": 7,
   "metadata": {
    "collapsed": true
   },
   "outputs": [],
   "source": [
    "def findNum (composition, element):\n",
    "    if element == '':\n",
    "        return 0\n",
    "    pos = composition.find(element)+len(element)\n",
    "    num = 0\n",
    "    while (pos < len(composition) and composition[pos].isdigit()): \n",
    "        num = num*10 + int(composition[pos])\n",
    "        pos += 1\n",
    "    return num"
   ]
  },
  {
   "cell_type": "markdown",
   "metadata": {},
   "source": [
    "## generate total descriptors"
   ]
  },
  {
   "cell_type": "code",
   "execution_count": 8,
   "metadata": {
    "collapsed": false
   },
   "outputs": [],
   "source": [
    "## generate total descriptors\n",
    "\n",
    "from xlrd import open_workbook\n",
    "book = open_workbook('PerovskiteScreenedMaterialsData_SI.xlsx')\n",
    "sheet = book.sheet_by_index(0)\n",
    "examples = []\n",
    "dexamples = []\n",
    "cexamples = []\n",
    "for row_index in range(1, sheet.nrows):  # skip header line\n",
    "    composition = sheet.cell(row_index, 0).value\n",
    "    stability = sheet.cell(row_index, 13).value\n",
    "    numberofelements = sheet.cell(row_index, 8).value\n",
    "    ## get all statistics for continous property\n",
    "    ## only get append max/min for discrict property\n",
    "\n",
    "    Acontsites = getComp(row_index, sheet, 1, composition, contList)\n",
    "    Bcontsites = getComp(row_index, sheet, 4, composition, contList)\n",
    "    Xcontsites = getComp(row_index, sheet, 7, composition[-4:], contList)\n",
    "\n",
    "    Adiscsites = getComp(row_index, sheet, 1, composition, discList)\n",
    "    Bdiscsites = getComp(row_index, sheet, 4, composition, discList)\n",
    "    Xdiscsites = getComp(row_index, sheet, 7, composition[-4:], discList)\n",
    "\n",
    "    Adstatics = np.array(Adiscsites)[:,1:len(Adiscsites[0])].astype(float)\n",
    "    Bdstatics = np.array(Bdiscsites)[:,1:len(Bdiscsites[0])].astype(float)\n",
    "    Xdstatics = np.array(Xdiscsites)[:,1:len(Xdiscsites[0])].astype(float)\n",
    "    \n",
    "    Astatics = np.array(Acontsites)[:,1:len(Acontsites[0])].astype(float)\n",
    "    Bstatics = np.array(Bcontsites)[:,1:len(Bcontsites[0])].astype(float)\n",
    "    Xstatics = np.array(Xcontsites)[:,1:len(Xcontsites[0])].astype(float)\n",
    "    Atot = np.sum(Astatics[:,0], axis=0)\n",
    "    Btot = np.sum(Astatics[:,0], axis=0)\n",
    "    Xtot = np.sum(Xstatics[:,0], axis=0) \n",
    "    if (Atot != 8 or Btot!=8 or Xtot !=24):\n",
    "        print(Atot, Btot, Xtot, row_index, composition)\n",
    "    Acoef = Astatics[:,0] / Atot if Atot != 0 else 0\n",
    "    Bcoef = Bstatics[:,0] / Btot if Btot != 0 else 0\n",
    "    Xcoef = Xstatics[:,0] / Xtot if Xtot != 0 else 0\n",
    "\n",
    "    Asite_dweighted = np.dot(Acoef, Adstatics)[1:]\n",
    "    Asite_dmax = np.amax(Adstatics, axis=0)[1:]\n",
    "    Asite_dmin = np.amin(Adstatics, axis=0)[1:]\n",
    "    Asite_dptp = np.ptp(Adstatics, axis=0)[1:]\n",
    "    Bsite_dweighted = np.dot(Bcoef, Bdstatics)[1:]\n",
    "    Bsite_dmax = np.amax(Bdstatics, axis=0)[1:]\n",
    "    Bsite_dmin = np.amin(Bdstatics, axis=0)[1:]\n",
    "    Bsite_dptp = np.ptp(Bdstatics, axis=0)[1:]\n",
    "    Xsite_dweighted = np.dot(Xcoef, Xdstatics)[1:]\n",
    "\n",
    "    Asite_avg = np.mean(Astatics, axis=0) \n",
    "    Asite_weighted = np.dot(Acoef, Astatics)[1:]\n",
    "    Asite_std = np.std(Astatics, axis=0)[1:]\n",
    "    Asite_max = np.amax(Astatics, axis=0)\n",
    "    Asite_min = np.amin(Astatics, axis=0)\n",
    "    Asite_ptp = np.ptp(Astatics, axis=0)\n",
    "    Bsite_avg = np.mean(Bstatics, axis=0) \n",
    "    Bsite_weighted = np.dot(Bcoef, Bstatics)[1:]\n",
    "    Bsite_std = np.std(Bstatics, axis=0)[1:]\n",
    "    Bsite_max = np.amax(Bstatics, axis=0)\n",
    "    Bsite_min = np.amin(Bstatics, axis=0)\n",
    "    Bsite_ptp = np.ptp(Bstatics, axis=0)\n",
    "    Xsite_avg = np.mean(Xstatics, axis=0)\n",
    "    ## stochiometry relations\n",
    "    ABratio = Atot/Btot if Btot !=0 else 100\n",
    "    AXratio = Atot/Xtot if Xtot !=0 else 100\n",
    "    BXratio = Btot/Xtot if Xtot !=0 else 100\n",
    "\n",
    "    with np.errstate(divide='ignore', invalid='ignore'):\n",
    "        ABPRatio = np.true_divide(Asite_weighted,Bsite_weighted)\n",
    "        AXPRatio = np.true_divide(Asite_weighted,Xsite_avg[1:])\n",
    "        BXPRatio = np.true_divide(Bsite_weighted,Xsite_avg[1:])\n",
    "        ABPRatio[ABPRatio == np.inf] = 0\n",
    "        ABPRatio[ABPRatio == - np.inf] = 0\n",
    "        ABPRatio = np.nan_to_num(ABPRatio)\n",
    "        AXPRatio[AXPRatio == np.inf] = 0\n",
    "        AXPRatio[AXPRatio == - np.inf] = 0\n",
    "        AXPRatio = np.nan_to_num(AXPRatio)\n",
    "        BXPRatio[BXPRatio == np.inf] = 0\n",
    "        BXPRatio[BXPRatio == - np.inf] = 0\n",
    "        BXPRatio = np.nan_to_num(BXPRatio)\n",
    "    ra = Asite_weighted[0]\n",
    "    rb = Bsite_weighted[0]\n",
    "    rx = Xsite_avg[1]\n",
    "    goldschmidt_TF = (ra+rx)/(np.sqrt(2)*(rb+rx))\n",
    "                              \n",
    "    example = np.r_[row_index, goldschmidt_TF, Atot, Btot, Xtot, numberofelements, ABratio, AXratio, BXratio, Asite_avg, Bsite_avg, \n",
    "                    Xsite_avg, Asite_weighted, Bsite_weighted, Asite_dweighted, Bsite_dweighted, Xsite_dweighted, \n",
    "                    Asite_dmax, Bsite_dmax, Asite_dmin, Bsite_dmin, Asite_dptp, Bsite_dptp, Asite_std, Bsite_std, \n",
    "                    Asite_max, Bsite_max, Asite_min, Bsite_min, Asite_ptp, Bsite_ptp, ABPRatio, AXPRatio, \n",
    "                    BXPRatio, stability]\n",
    "    examples.append(example)\n",
    "    \n",
    "    dexample = np.r_[row_index, numberofelements, Asite_dweighted, Bsite_dweighted, Xsite_dweighted, \n",
    "                    Asite_dmax, Bsite_dmax, Asite_dmin, Bsite_dmin, Asite_dptp, Bsite_dptp, stability]\n",
    "    dexamples.append(dexample)\n",
    "    \n",
    "    cexample = np.r_[row_index, goldschmidt_TF, Asite_avg[1:], Bsite_avg[1:], \n",
    "                    Asite_weighted, Bsite_weighted, Asite_std, Bsite_std, \n",
    "                    Asite_max, Bsite_max, Asite_min, Bsite_min, Asite_ptp, Bsite_ptp, \n",
    "                    stability]\n",
    "    cexamples.append(cexample)\n",
    "    \n",
    "header = np.array(range(example.size),dtype=str)\n",
    "header[0] = ''\n",
    "header[-1] = 'Ehu'\n",
    "dheader = np.array(range(dexample.size),dtype=str)\n",
    "dheader[0] = ''\n",
    "dheader[-1] = 'Ehu'\n",
    "cheader = np.array(range(cexample.size),dtype=str)\n",
    "cheader[0] = ''\n",
    "cheader[-1] = 'Ehu'\n",
    "examples.insert(0,header)\n",
    "dexamples.insert(0,dheader)\n",
    "cexamples.insert(0,cheader)"
   ]
  },
  {
   "cell_type": "markdown",
   "metadata": {},
   "source": [
    "## Write into csv file"
   ]
  },
  {
   "cell_type": "code",
   "execution_count": 9,
   "metadata": {
    "collapsed": false
   },
   "outputs": [],
   "source": [
    "np.savetxt(\"new_stability_output_with_descriptors.csv\", np.array(examples),  fmt=\"%s\", delimiter=',')"
   ]
  },
  {
   "cell_type": "code",
   "execution_count": 25,
   "metadata": {
    "collapsed": true
   },
   "outputs": [],
   "source": [
    "np.savetxt(\"continuous_stability_output_with_descriptors.csv\", np.array(cexamples),  fmt=\"%s\", delimiter=',')"
   ]
  },
  {
   "cell_type": "code",
   "execution_count": 26,
   "metadata": {
    "collapsed": true
   },
   "outputs": [],
   "source": [
    "np.savetxt(\"disc_stability_output_with_descriptors.csv\", np.array(dexamples),  fmt=\"%s\", delimiter=',')"
   ]
  },
  {
   "cell_type": "code",
   "execution_count": 24,
   "metadata": {
    "collapsed": false
   },
   "outputs": [
    {
     "data": {
      "text/plain": [
       "(1957, 866)"
      ]
     },
     "execution_count": 24,
     "metadata": {},
     "output_type": "execute_result"
    }
   ],
   "source": [
    "np.array(examples).shape"
   ]
  },
  {
   "cell_type": "code",
   "execution_count": 22,
   "metadata": {
    "collapsed": false
   },
   "outputs": [
    {
     "data": {
      "text/plain": [
       "(1957, 489)"
      ]
     },
     "execution_count": 22,
     "metadata": {},
     "output_type": "execute_result"
    }
   ],
   "source": [
    "np.array(cexamples).shape"
   ]
  },
  {
   "cell_type": "code",
   "execution_count": 23,
   "metadata": {
    "collapsed": false
   },
   "outputs": [
    {
     "data": {
      "text/plain": [
       "(1957, 210)"
      ]
     },
     "execution_count": 23,
     "metadata": {},
     "output_type": "execute_result"
    }
   ],
   "source": [
    "np.array(dexamples).shape"
   ]
  },
  {
   "cell_type": "code",
   "execution_count": 20,
   "metadata": {
    "collapsed": false
   },
   "outputs": [
    {
     "data": {
      "text/plain": [
       "(489,)"
      ]
     },
     "execution_count": 20,
     "metadata": {},
     "output_type": "execute_result"
    }
   ],
   "source": [
    "cexamples[2].shape"
   ]
  },
  {
   "cell_type": "code",
   "execution_count": 12,
   "metadata": {
    "collapsed": false
   },
   "outputs": [],
   "source": [
    "import numpy as np\n",
    "import pandas as pd\n",
    "book = pd.read_excel('PerovskiteScreenedMaterialsData_SI.xlsx',sheetname=0)\n",
    "stability = book[book.columns[13]]"
   ]
  },
  {
   "cell_type": "code",
   "execution_count": 18,
   "metadata": {
    "collapsed": false
   },
   "outputs": [
    {
     "data": {
      "text/plain": [
       "0.41431670281995664"
      ]
     },
     "execution_count": 18,
     "metadata": {},
     "output_type": "execute_result"
    }
   ],
   "source": [
    "len(stability[stability<=40])/len(stability[stability>40])"
   ]
  },
  {
   "cell_type": "code",
   "execution_count": 15,
   "metadata": {
    "collapsed": false
   },
   "outputs": [
    {
     "data": {
      "text/plain": [
       "1956"
      ]
     },
     "execution_count": 15,
     "metadata": {},
     "output_type": "execute_result"
    }
   ],
   "source": [
    "len(stability<=40)"
   ]
  },
  {
   "cell_type": "code",
   "execution_count": null,
   "metadata": {
    "collapsed": true
   },
   "outputs": [],
   "source": []
  }
 ],
 "metadata": {
  "kernelspec": {
   "display_name": "Python 3",
   "language": "python",
   "name": "python3"
  },
  "language_info": {
   "codemirror_mode": {
    "name": "ipython",
    "version": 3
   },
   "file_extension": ".py",
   "mimetype": "text/x-python",
   "name": "python",
   "nbconvert_exporter": "python",
   "pygments_lexer": "ipython3",
   "version": "3.5.2"
  }
 },
 "nbformat": 4,
 "nbformat_minor": 0
}
