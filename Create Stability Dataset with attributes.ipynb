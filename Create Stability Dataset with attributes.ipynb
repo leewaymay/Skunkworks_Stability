{
 "cells": [
  {
   "cell_type": "code",
   "execution_count": 19,
   "metadata": {
    "collapsed": true
   },
   "outputs": [],
   "source": [
    "import numpy as np"
   ]
  },
  {
   "cell_type": "markdown",
   "metadata": {},
   "source": [
    "## Build up elementary property dictionary\n",
    "- function buildDict creates a dictionary of element name and a type of attribute\n",
    "- get a dictionary list with differnet elementary properties"
   ]
  },
  {
   "cell_type": "code",
   "execution_count": 1,
   "metadata": {
    "collapsed": true
   },
   "outputs": [],
   "source": [
    "def buildDict (attribute_index, refsheet, data_type):\n",
    "    attribute = dict()\n",
    "    if (data_type == 'd') :\n",
    "        for row_index in range(1, refsheet.nrows):\n",
    "            element_name = refsheet.cell(row_index, 0).value\n",
    "            data = refsheet.cell(row_index, attribute_index).value\n",
    "            if (data == '' or data == ' '):\n",
    "                attribute[element_name] = -1.111\n",
    "            else:\n",
    "                try:\n",
    "                    attribute[element_name] = float(data)\n",
    "                except:\n",
    "                    print (data, row_index, attribute_index)\n",
    "            \n",
    "    else:\n",
    "        for row_index in range(1, refsheet.nrows):\n",
    "            element_name = refsheet.cell(row_index, 0).value\n",
    "            attribute[element_name] = refsheet.cell(row_index, attribute_index).value           \n",
    "    return attribute"
   ]
  },
  {
   "cell_type": "code",
   "execution_count": 13,
   "metadata": {
    "collapsed": false
   },
   "outputs": [],
   "source": [
    "from xlrd import open_workbook\n",
    "refbk = open_workbook('Elementary_property.xlsx')\n",
    "refst = refbk.sheet_by_index(0)\n",
    "dicList = []\n",
    "for attribute_index in range(1, 26):\n",
    "    dicList.append(buildDict(attribute_index, refst, 'd'))\n",
    "for attribute_index in range(27, refsheet.ncols):\n",
    "    dicList.append(buildDict(attribute_index, refst, 's'))"
   ]
  },
  {
   "cell_type": "markdown",
   "metadata": {},
   "source": [
    "## Get Composition infomation \n",
    "- function getComp returns a list of atoms with elementary properties at one type of site\n",
    "- function findNum parse the name of the perovskite to get the number of atoms\n",
    "- for every compound in the spreadsheet, generate a list of attribute values"
   ]
  },
  {
   "cell_type": "code",
   "execution_count": 17,
   "metadata": {
    "collapsed": true
   },
   "outputs": [],
   "source": [
    "def getComp (row_index, sheetname, col_index, compositionname, dicList):\n",
    "    sites = []\n",
    "    for index in range(3):\n",
    "        if (col_index+index >= sheetname.ncols): \n",
    "            break\n",
    "        if (sheetname.cell(row_index, col_index+index).value != ''):\n",
    "            name = sheetname.cell(row_index, col_index+index).value\n",
    "            num = findNum(compositionname, name)\n",
    "            properties = [name, num]\n",
    "            for attrDic in dicList:\n",
    "                properties.append(attrDic[name])\n",
    "            sites.append(properties)\n",
    "    return sites"
   ]
  },
  {
   "cell_type": "code",
   "execution_count": 18,
   "metadata": {
    "collapsed": true
   },
   "outputs": [],
   "source": [
    "def findNum (composition, element):\n",
    "    if element == '':\n",
    "        return 0\n",
    "    pos = composition.find(element)+len(element)\n",
    "    num = 0\n",
    "    while (pos < len(composition) and composition[pos].isdigit()): \n",
    "        num = num*10 + int(composition[pos])\n",
    "        pos += 1\n",
    "    return num"
   ]
  },
  {
   "cell_type": "code",
   "execution_count": 57,
   "metadata": {
    "collapsed": false
   },
   "outputs": [
    {
     "name": "stderr",
     "output_type": "stream",
     "text": [
      "/Users/liwei/anaconda3/lib/python3.5/site-packages/ipykernel/__main__.py:22: RuntimeWarning: invalid value encountered in true_divide\n"
     ]
    }
   ],
   "source": [
    "from xlrd import open_workbook\n",
    "book = open_workbook('PV_stability_data_forWei.xlsx')\n",
    "sheet = book.sheet_by_index(0)\n",
    "examples = []\n",
    "for row_index in range(1, sheet.nrows):  # skip header line\n",
    "    composition = sheet.cell(row_index, 0).value\n",
    "    stability = sheet.cell(row_index, 6).value\n",
    "    bandgap = sheet.cell(row_index, 2).value\n",
    "    charge_transfer_gap = sheet.cell(row_index, 3).value\n",
    "    O_p_band_center = sheet.cell(row_index, 4).value\n",
    "    logK = sheet.cell(row_index, 5).value\n",
    "    Asites = getComp(row_index, sheet, 8, composition, dicList)\n",
    "    Bsites = getComp(row_index, sheet, 11, composition, dicList)\n",
    "    if (len(Bsites) == 0):\n",
    "        Bsites = Asites\n",
    "    Xsites = getComp(row_index, sheet, 14, composition, dicList)\n",
    "    Astatics = np.array(Asites)[:,1:27].astype(float)\n",
    "    Bstatics = np.array(Bsites)[:,1:27].astype(float)\n",
    "    Xstatics = np.array(Xsites)[:,1:27].astype(float)\n",
    "    Acoef = Astatics[:,0] / np.sum(Astatics[:,0], axis=0)\n",
    "    Bcoef = Bstatics[:,0] / np.sum(Bstatics[:,0], axis=0)\n",
    "    Xcoef = Xstatics[:,0] / np.sum(Xstatics[:,0], axis=0)\n",
    "    Asite_avg = np.mean(Astatics, axis=0) \n",
    "    Asite_weighted = np.dot(Acoef, Astatics)\n",
    "    Asite_std = np.std(Astatics, axis=0)\n",
    "    Asite_max = np.amax(Astatics, axis=0)\n",
    "    Asite_min = np.amin(Astatics, axis=0)\n",
    "    Asite_ptp = np.ptp(Astatics, axis=0)\n",
    "    Bsite_avg = np.mean(Bstatics, axis=0) \n",
    "    Bsite_weighted = np.dot(Bcoef, Bstatics)\n",
    "    Bsite_std = np.std(Bstatics, axis=0)\n",
    "    Bsite_max = np.amax(Bstatics, axis=0)\n",
    "    Bsite_min = np.amin(Bstatics, axis=0)\n",
    "    Bsite_ptp = np.ptp(Bstatics, axis=0)\n",
    "    Xsite_avg = np.mean(Xstatics, axis=0)\n",
    "    example = np.r_[Atot, Asite_avg, Asite_weighted, Asite_std, Asite_max, Asite_min, Asite_ptp,\n",
    "               Btot, Bsite_avg, Bsite_weighted, Bsite_std, Bsite_max, Bsite_min, Bsite_ptp,\n",
    "               Xsite_avg, bandgap, charge_transfer_gap, O_p_band_center, logK, stability]\n",
    "    examples.append(example)"
   ]
  },
  {
   "cell_type": "markdown",
   "metadata": {},
   "source": [
    "## Write into csv file"
   ]
  },
  {
   "cell_type": "code",
   "execution_count": 58,
   "metadata": {
    "collapsed": false
   },
   "outputs": [],
   "source": [
    "np.savetxt(\"stability_output_with_descriptors.csv\", np.array(examples), delimiter=',')"
   ]
  },
  {
   "cell_type": "code",
   "execution_count": 59,
   "metadata": {
    "collapsed": false
   },
   "outputs": [
    {
     "data": {
      "text/plain": [
       "(2040, 345)"
      ]
     },
     "execution_count": 59,
     "metadata": {},
     "output_type": "execute_result"
    }
   ],
   "source": [
    "np.array(examples).shape\n"
   ]
  },
  {
   "cell_type": "code",
   "execution_count": 43,
   "metadata": {
    "collapsed": false
   },
   "outputs": [
    {
     "data": {
      "text/plain": [
       "[]"
      ]
     },
     "execution_count": 43,
     "metadata": {},
     "output_type": "execute_result"
    }
   ],
   "source": []
  },
  {
   "cell_type": "code",
   "execution_count": null,
   "metadata": {
    "collapsed": true
   },
   "outputs": [],
   "source": []
  }
 ],
 "metadata": {
  "kernelspec": {
   "display_name": "Python 3",
   "language": "python",
   "name": "python3"
  },
  "language_info": {
   "codemirror_mode": {
    "name": "ipython",
    "version": 3
   },
   "file_extension": ".py",
   "mimetype": "text/x-python",
   "name": "python",
   "nbconvert_exporter": "python",
   "pygments_lexer": "ipython3",
   "version": "3.5.2"
  }
 },
 "nbformat": 4,
 "nbformat_minor": 0
}
